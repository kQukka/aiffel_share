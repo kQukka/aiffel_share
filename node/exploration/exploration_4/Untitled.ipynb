{
 "cells": [
  {
   "cell_type": "code",
   "execution_count": null,
   "id": "d47fc63d",
   "metadata": {},
   "outputs": [],
   "source": []
  },
  {
   "cell_type": "code",
   "execution_count": 1,
   "id": "19388af2",
   "metadata": {
    "scrolled": true
   },
   "outputs": [
    {
     "name": "stdout",
     "output_type": "stream",
     "text": [
      "['First Citizen:', 'Before we proceed any further, hear me speak.', '', 'All:', 'Speak, speak.', '', 'First Citizen:', 'You are all resolved rather to die than to famish?', '']\n"
     ]
    }
   ],
   "source": [
    "import os, re \n",
    "import numpy as np\n",
    "import tensorflow as tf\n",
    "\n",
    "# 파일을 읽기모드로 열고\n",
    "# 라인 단위로 끊어서 list 형태로 읽어옵니다.\n",
    "file_path = './sample/shakespeare.txt'\n",
    "with open(file_path, \"r\") as f:\n",
    "    raw_corpus = f.read().splitlines()\n",
    "\n",
    "# 앞에서부터 10라인만 화면에 출력해 볼까요?\n",
    "print(raw_corpus[:9])"
   ]
  },
  {
   "cell_type": "code",
   "execution_count": null,
   "id": "ebcdc06a",
   "metadata": {},
   "outputs": [],
   "source": [
    "for idx, sentence in enumerate(raw_corpus):\n",
    "    # 길이가 0인 문장은 건너뜁니다.\n",
    "    if len(sentence) == 0: continue   \n",
    "    # 문장의 끝이 : 인 문장은 건너뜁니다.\n",
    "    if sentence[-1] == \":\": continue  \n",
    "\n",
    "    if idx > 9: break   \n",
    "\n",
    "    print(sentence)\n",
    "    "
   ]
  },
  {
   "cell_type": "markdown",
   "id": "03a0e1c3",
   "metadata": {},
   "source": [
    "## 토큰화"
   ]
  },
  {
   "cell_type": "code",
   "execution_count": 3,
   "id": "6db2b88e",
   "metadata": {},
   "outputs": [
    {
     "name": "stdout",
     "output_type": "stream",
     "text": [
      "<start> this is sample sentence . <end>\n"
     ]
    }
   ],
   "source": [
    "# 정규식 사용 \n",
    "# https://velog.io/@ednadev/%ED%8C%8C%EC%9D%B4%EC%8D%AC-%EC%A0%95%EA%B7%9C%ED%91%9C%ED%98%84%EC%8B%9D%EA%B3%BC-re%EB%AA%A8%EB%93%88\n",
    "# 입력된 문장을\n",
    "#     1. 소문자로 바꾸고, 양쪽 공백을 지웁니다\n",
    "#     2. 특수문자 양쪽에 공백을 넣고\n",
    "#     3. 여러개의 공백은 하나의 공백으로 바꿉니다\n",
    "#     4. a-zA-Z?.!,¿가 아닌 모든 문자를 하나의 공백으로 바꿉니다\n",
    "#     5. 다시 양쪽 공백을 지웁니다\n",
    "#     6. 문장 시작에는 <start>, 끝에는 <end>를 추가합니다\n",
    "# 이 순서로 처리해주면 문제가 되는 상황을 방지할 수 있겠네요!\n",
    "def preprocess_sentence(sentence):\n",
    "    sentence = sentence.lower().strip() # 1\n",
    "    sentence = re.sub(r\"([?.!,¿])\", r\" \\1 \", sentence) # 2\n",
    "    sentence = re.sub(r'[\" \"]+', \" \", sentence) # 3\n",
    "    sentence = re.sub(r\"[^a-zA-Z?.!,¿]+\", \" \", sentence) # 4\n",
    "    sentence = sentence.strip() # 5\n",
    "    sentence = '<start> ' + sentence + ' <end>' # 6\n",
    "    return sentence\n",
    "\n",
    "# 이 문장이 어떻게 필터링되는지 확인해 보세요.\n",
    "print(preprocess_sentence(\"This @_is ;;;sample        sentence.\"))"
   ]
  },
  {
   "cell_type": "code",
   "execution_count": 2,
   "id": "73a3db53",
   "metadata": {},
   "outputs": [
    {
     "name": "stdout",
     "output_type": "stream",
     "text": [
      "<start> this is sample sentence . <end>\n"
     ]
    },
    {
     "data": {
      "text/plain": [
       "['<start> before we proceed any further , hear me speak . <end>',\n",
       " '<start> speak , speak . <end>',\n",
       " '<start> you are all resolved rather to die than to famish ? <end>',\n",
       " '<start> resolved . resolved . <end>',\n",
       " '<start> first , you know caius marcius is chief enemy to the people . <end>',\n",
       " '<start> we know t , we know t . <end>',\n",
       " '<start> let us kill him , and we ll have corn at our own price . <end>',\n",
       " '<start> is t a verdict ? <end>',\n",
       " '<start> no more talking on t let it be done away , away ! <end>',\n",
       " '<start> one word , good citizens . <end>']"
      ]
     },
     "execution_count": 2,
     "metadata": {},
     "output_type": "execute_result"
    }
   ],
   "source": [
    "# 여기에 정제된 문장을 모을겁니다\n",
    "corpus = []\n",
    "\n",
    "for sentence in raw_corpus:\n",
    "    # 우리가 원하지 않는 문장은 건너뜁니다\n",
    "    # 단어가 없거나, 화자가 표현된 문장 제외\n",
    "    if len(sentence) == 0: continue\n",
    "    if sentence[-1] == \":\": continue\n",
    "    \n",
    "    # 정제를 하고 담아주세요\n",
    "    preprocessed_sentence = preprocess_sentence(sentence)\n",
    "    corpus.append(preprocessed_sentence)\n",
    "        \n",
    "# 정제된 결과를 10개만 확인해보죠\n",
    "corpus[:10]"
   ]
  },
  {
   "cell_type": "code",
   "execution_count": 25,
   "id": "fce9e05f",
   "metadata": {
    "scrolled": true
   },
   "outputs": [
    {
     "name": "stdout",
     "output_type": "stream",
     "text": [
      "[[   2  143   40 ...    0    0    0]\n",
      " [   2  110    4 ...    0    0    0]\n",
      " [   2   11   50 ...    0    0    0]\n",
      " ...\n",
      " [   2  149 4553 ...    0    0    0]\n",
      " [   2   34   71 ...    0    0    0]\n",
      " [   2  945   34 ...    0    0    0]]\n",
      "<keras_preprocessing.text.Tokenizer object at 0x7f551495c400>\n"
     ]
    }
   ],
   "source": [
    "# 토큰화 할 때 텐서플로우의 Tokenizer와 pad_sequences를 사용합니다\n",
    "# 더 잘 알기 위해 아래 문서들을 참고하면 좋습니다\n",
    "# https://www.tensorflow.org/api_docs/python/tf/keras/preprocessing/text/Tokenizer\n",
    "# https://www.tensorflow.org/api_docs/python/tf/keras/preprocessing/sequence/pad_sequences\n",
    "def tokenize(corpus):\n",
    "    # 7000단어를 기억할 수 있는 tokenizer를 만들겁니다\n",
    "    # 우리는 이미 문장을 정제했으니 filters가 필요없어요\n",
    "    # 7000단어에 포함되지 못한 단어는 '<unk>'로 바꿀거에요\n",
    "    tokenizer = tf.keras.preprocessing.text.Tokenizer(\n",
    "        num_words=7000, \n",
    "        filters=' ',\n",
    "        oov_token=\"<unk>\"\n",
    "    )\n",
    "    # corpus를 이용해 tokenizer 내부의 단어장(dic)을 완성합니다\n",
    "    # 출연하는 단어들에 숫자를 매핑 한다.\n",
    "    tokenizer.fit_on_texts(corpus)\n",
    "    # 준비한 tokenizer를 이용해 corpus를 Tensor로 변환합니다\n",
    "    # 단어장을 사용하여 문장을 매핑된 순자로 바꾸고, 리스트 형식으로 변환하여 Tensor로 만든다.\n",
    "    tensor = tokenizer.texts_to_sequences(corpus)\n",
    "    # 입력 데이터의 시퀀스 길이를 일정하게 맞춰줍니다\n",
    "    # 만약 시퀀스가 짧다면 문장 뒤에 패딩을 붙여 길이를 맞춰줍니다.\n",
    "    # 문장 앞에 패딩을 붙여 길이를 맞추고 싶다면 padding='pre'를 사용합니다\n",
    "    tensor = tf.keras.preprocessing.sequence.pad_sequences(tensor, padding='post')  \n",
    "    word_index = tokenizer.word_index\n",
    "    \n",
    "    print(tensor)\n",
    "    print(tokenizer)\n",
    "    return tensor, tokenizer\n",
    "\n",
    "tensor, tokenizer = tokenize(corpus)"
   ]
  },
  {
   "cell_type": "code",
   "execution_count": 26,
   "id": "eacda646",
   "metadata": {},
   "outputs": [
    {
     "name": "stdout",
     "output_type": "stream",
     "text": [
      "[[   2  143   40  933  140  591    4  124   24  110]\n",
      " [   2  110    4  110    5    3    0    0    0    0]\n",
      " [   2   11   50   43 1201  316    9  201   74    9]]\n",
      "1 : <unk>\n",
      "2 : <start>\n",
      "3 : <end>\n",
      "4 : ,\n",
      "5 : .\n",
      "6 : the\n",
      "7 : and\n",
      "8 : i\n",
      "9 : to\n",
      "10 : of\n"
     ]
    }
   ],
   "source": [
    "print(tensor[:3, :10])\n",
    "\n",
    "for idx in tokenizer.index_word:\n",
    "    print(idx, \":\", tokenizer.index_word[idx])\n",
    "\n",
    "    if idx >= 10: break"
   ]
  },
  {
   "cell_type": "code",
   "execution_count": 27,
   "id": "96aafa5f",
   "metadata": {
    "scrolled": true
   },
   "outputs": [
    {
     "name": "stdout",
     "output_type": "stream",
     "text": [
      "[  2 143  40 933 140 591   4 124  24 110   5   3   0   0   0   0   0   0\n",
      "   0   0]\n",
      "[143  40 933 140 591   4 124  24 110   5   3   0   0   0   0   0   0   0\n",
      "   0   0]\n"
     ]
    }
   ],
   "source": [
    "# tensor에서 마지막 토큰을 잘라내서 소스 문장을 생성합니다\n",
    "# 마지막 토큰은 <end>가 아니라 <pad>일 가능성이 높습니다.\n",
    "# 개수 맞춰주기 위해서 scr_input도 1 짜름\n",
    "src_input = tensor[:, :-1]  \n",
    "# tensor에서 <start>를 잘라내서 타겟 문장을 생성합니다.\n",
    "tgt_input = tensor[:, 1:]    \n",
    "\n",
    "print(src_input[0])\n",
    "print(tgt_input[0])"
   ]
  },
  {
   "cell_type": "code",
   "execution_count": 28,
   "id": "a1887648",
   "metadata": {
    "scrolled": true
   },
   "outputs": [
    {
     "data": {
      "text/plain": [
       "<BatchDataset shapes: ((256, 20), (256, 20)), types: (tf.int32, tf.int32)>"
      ]
     },
     "execution_count": 28,
     "metadata": {},
     "output_type": "execute_result"
    }
   ],
   "source": [
    "BUFFER_SIZE = len(src_input)\n",
    "BATCH_SIZE = 256\n",
    "steps_per_epoch = len(src_input) // BATCH_SIZE\n",
    "\n",
    " # tokenizer가 구축한 단어사전 내 7000개와, 여기 포함되지 않은 0:<pad>를 포함하여 7001개\n",
    "VOCAB_SIZE = tokenizer.num_words + 1\n",
    "\n",
    "# 준비한 데이터 소스로부터 데이터셋을 만듭니다\n",
    "# 데이터셋에 대해서는 아래 문서를 참고하세요\n",
    "# 자세히 알아둘수록 도움이 많이 되는 중요한 문서입니다\n",
    "# https://www.tensorflow.org/api_docs/python/tf/data/Dataset\n",
    "# src_input과 tgt_intput 매칭\n",
    "dataset = tf.data.Dataset.from_tensor_slices((src_input, tgt_input))\n",
    "# 무작위로 섞은 BUFFER_SIZE개짜리 데이터셋 생성 \n",
    "dataset = dataset.shuffle(BUFFER_SIZE)\n",
    "# BATCH_SIZE 만큼씩 나눠서 Dataset 생성, drop_remainder=True는 나누다 남은것을 버리지 않고 Dataset으로 남긴다\n",
    "dataset = dataset.batch(BATCH_SIZE, drop_remainder=True)\n",
    "dataset"
   ]
  },
  {
   "cell_type": "markdown",
   "id": "108268f7",
   "metadata": {},
   "source": [
    "## 모델 설계\n",
    "tf.keras.Model을 Subclassing하는 방식\n",
    "모델에는 1개의 Embedding 레이어, 2개의 LSTM 레이어, 1개의 Dense 레이어"
   ]
  },
  {
   "cell_type": "code",
   "execution_count": 29,
   "id": "fb35a9d6",
   "metadata": {},
   "outputs": [],
   "source": [
    "class TextGenerator(tf.keras.Model):\n",
    "    def __init__(self, vocab_size, embedding_size, hidden_size):\n",
    "        super().__init__()\n",
    "        \n",
    "        self.embedding = tf.keras.layers.Embedding(vocab_size, embedding_size)\n",
    "        self.rnn_1 = tf.keras.layers.LSTM(hidden_size, return_sequences=True)\n",
    "        self.rnn_2 = tf.keras.layers.LSTM(hidden_size, return_sequences=True)\n",
    "        self.linear = tf.keras.layers.Dense(vocab_size)\n",
    "        \n",
    "    def call(self, x):\n",
    "        out = self.embedding(x)\n",
    "        out = self.rnn_1(out)\n",
    "        out = self.rnn_2(out)\n",
    "        out = self.linear(out)\n",
    "        \n",
    "        return out\n",
    "    \n",
    "embedding_size = 256\n",
    "hidden_size = 1024\n",
    "model = TextGenerator(tokenizer.num_words + 1, embedding_size , hidden_size)"
   ]
  },
  {
   "cell_type": "code",
   "execution_count": 31,
   "id": "211590b9",
   "metadata": {
    "scrolled": true
   },
   "outputs": [
    {
     "data": {
      "text/plain": [
       "<tf.Tensor: shape=(256, 20, 7001), dtype=float32, numpy=\n",
       "array([[[ 7.38379822e-05, -1.16170093e-04, -9.10564850e-05, ...,\n",
       "         -2.30290127e-04, -1.57353134e-04,  1.05653395e-04],\n",
       "        [ 1.16805415e-04, -7.67991529e-04, -5.84133413e-05, ...,\n",
       "         -5.49230666e-04,  9.44229905e-05,  7.14045163e-05],\n",
       "        [-2.58904201e-05, -7.75029708e-04,  3.75002855e-05, ...,\n",
       "         -7.55569024e-04,  1.33951995e-04,  4.36505507e-05],\n",
       "        ...,\n",
       "        [ 1.63769862e-03, -5.90664451e-04,  2.63424264e-03, ...,\n",
       "          1.53822463e-03,  3.32125812e-03,  1.30795653e-03],\n",
       "        [ 1.80958607e-03, -9.13859229e-04,  2.78225937e-03, ...,\n",
       "          1.63986813e-03,  3.55684524e-03,  1.39587838e-03],\n",
       "        [ 1.96125824e-03, -1.22288335e-03,  2.89531727e-03, ...,\n",
       "          1.69492618e-03,  3.77641944e-03,  1.47557538e-03]],\n",
       "\n",
       "       [[ 7.38379822e-05, -1.16170093e-04, -9.10564850e-05, ...,\n",
       "         -2.30290127e-04, -1.57353134e-04,  1.05653395e-04],\n",
       "        [ 1.12155423e-04, -1.70083702e-04, -1.49688538e-04, ...,\n",
       "         -2.88651179e-04, -4.56576308e-05,  7.92658611e-05],\n",
       "        [ 6.37166813e-05, -3.66471853e-04, -3.26385016e-05, ...,\n",
       "         -4.96816239e-04,  1.19095552e-04,  1.66637517e-04],\n",
       "        ...,\n",
       "        [-1.67876555e-04,  1.95364322e-04,  2.42322707e-03, ...,\n",
       "          8.89238378e-04,  1.33615942e-03,  9.30572802e-04],\n",
       "        [ 1.26118262e-04,  4.46126578e-05,  2.61741411e-03, ...,\n",
       "          1.14613539e-03,  1.67838845e-03,  1.11939455e-03],\n",
       "        [ 4.19484801e-04, -1.65492864e-04,  2.77855620e-03, ...,\n",
       "          1.35181285e-03,  2.03059055e-03,  1.26710068e-03]],\n",
       "\n",
       "       [[ 7.38379822e-05, -1.16170093e-04, -9.10564850e-05, ...,\n",
       "         -2.30290127e-04, -1.57353134e-04,  1.05653395e-04],\n",
       "        [ 2.69073644e-04, -3.44535889e-04, -9.58993496e-06, ...,\n",
       "          2.56771091e-05, -6.81874008e-05,  7.94012230e-05],\n",
       "        [ 2.30687423e-04, -3.72523646e-04,  9.90864501e-05, ...,\n",
       "          5.24029792e-06,  3.42135201e-04, -6.17725309e-05],\n",
       "        ...,\n",
       "        [-1.21559071e-06, -2.40337395e-04,  1.46471849e-03, ...,\n",
       "          1.00109389e-03,  1.29649253e-03,  1.76040153e-03],\n",
       "        [ 2.69827025e-04, -2.83544156e-04,  1.78935227e-03, ...,\n",
       "          1.17341743e-03,  1.57324167e-03,  1.83678698e-03],\n",
       "        [ 5.48104406e-04, -3.96799209e-04,  2.07385328e-03, ...,\n",
       "          1.33008941e-03,  1.87280134e-03,  1.87113776e-03]],\n",
       "\n",
       "       ...,\n",
       "\n",
       "       [[ 7.38379822e-05, -1.16170093e-04, -9.10564850e-05, ...,\n",
       "         -2.30290127e-04, -1.57353134e-04,  1.05653395e-04],\n",
       "        [ 1.35386610e-04, -3.48684436e-04,  6.56640041e-05, ...,\n",
       "         -2.78745312e-04, -2.99923668e-05,  1.88613747e-04],\n",
       "        [ 2.67890719e-04, -4.48887498e-04, -4.19597418e-05, ...,\n",
       "         -3.66046763e-04,  3.18054110e-04,  3.98987118e-04],\n",
       "        ...,\n",
       "        [ 5.01342409e-04,  4.82667529e-05,  1.99180236e-03, ...,\n",
       "          1.29459950e-03,  1.82721228e-03,  1.39348512e-03],\n",
       "        [ 7.17346964e-04, -1.57565170e-04,  2.27859989e-03, ...,\n",
       "          1.47156324e-03,  2.14157626e-03,  1.40785403e-03],\n",
       "        [ 9.33418341e-04, -4.05175000e-04,  2.51205731e-03, ...,\n",
       "          1.60044385e-03,  2.45408667e-03,  1.42292120e-03]],\n",
       "\n",
       "       [[ 7.38379822e-05, -1.16170093e-04, -9.10564850e-05, ...,\n",
       "         -2.30290127e-04, -1.57353134e-04,  1.05653395e-04],\n",
       "        [ 1.56502192e-05, -8.26478717e-05, -3.18059494e-04, ...,\n",
       "         -3.57096695e-04, -2.14983185e-04,  5.13106410e-04],\n",
       "        [ 3.83346160e-05, -2.63705209e-04, -1.28538595e-04, ...,\n",
       "         -2.16148241e-04, -4.21068951e-04,  9.28617548e-04],\n",
       "        ...,\n",
       "        [ 5.31071913e-04, -4.81808034e-04,  1.96861895e-03, ...,\n",
       "          1.21070270e-03,  1.58636679e-03,  1.91097474e-03],\n",
       "        [ 8.00699519e-04, -6.77547883e-04,  2.23021186e-03, ...,\n",
       "          1.29566563e-03,  1.99864875e-03,  1.97658478e-03],\n",
       "        [ 1.06548087e-03, -9.06035944e-04,  2.45192577e-03, ...,\n",
       "          1.36791216e-03,  2.38444470e-03,  2.01531872e-03]],\n",
       "\n",
       "       [[ 7.38379822e-05, -1.16170093e-04, -9.10564850e-05, ...,\n",
       "         -2.30290127e-04, -1.57353134e-04,  1.05653395e-04],\n",
       "        [ 5.90180680e-05, -1.51279630e-04, -1.69672712e-04, ...,\n",
       "         -3.09677707e-04, -3.92891001e-04,  1.03697501e-04],\n",
       "        [-1.17719370e-04, -2.60211586e-04, -5.19755064e-04, ...,\n",
       "         -1.60637705e-04, -5.87624556e-04,  2.50909128e-04],\n",
       "        ...,\n",
       "        [ 6.32556796e-04, -2.81550776e-04,  2.66132364e-03, ...,\n",
       "          1.75988511e-03,  2.44075432e-03,  1.82883581e-03],\n",
       "        [ 8.87458853e-04, -5.22610033e-04,  2.88738799e-03, ...,\n",
       "          1.87917333e-03,  2.75566778e-03,  1.83104677e-03],\n",
       "        [ 1.13098253e-03, -7.83222320e-04,  3.06602358e-03, ...,\n",
       "          1.94936479e-03,  3.04710772e-03,  1.82652916e-03]]],\n",
       "      dtype=float32)>"
      ]
     },
     "execution_count": 31,
     "metadata": {},
     "output_type": "execute_result"
    }
   ],
   "source": [
    "# 데이터셋에서 데이터 한 배치만 불러오는 방법입니다.\n",
    "# 지금은 동작 원리에 너무 빠져들지 마세요~\n",
    "for src_sample, tgt_sample in dataset.take(1): break\n",
    "\n",
    "# 한 배치만 불러온 데이터를 모델에 넣어봅니다\n",
    "model(src_sample)"
   ]
  },
  {
   "cell_type": "code",
   "execution_count": 32,
   "id": "cf8f8018",
   "metadata": {},
   "outputs": [
    {
     "name": "stdout",
     "output_type": "stream",
     "text": [
      "Model: \"text_generator\"\n",
      "_________________________________________________________________\n",
      "Layer (type)                 Output Shape              Param #   \n",
      "=================================================================\n",
      "embedding (Embedding)        multiple                  1792256   \n",
      "_________________________________________________________________\n",
      "lstm (LSTM)                  multiple                  5246976   \n",
      "_________________________________________________________________\n",
      "lstm_1 (LSTM)                multiple                  8392704   \n",
      "_________________________________________________________________\n",
      "dense (Dense)                multiple                  7176025   \n",
      "=================================================================\n",
      "Total params: 22,607,961\n",
      "Trainable params: 22,607,961\n",
      "Non-trainable params: 0\n",
      "_________________________________________________________________\n"
     ]
    }
   ],
   "source": [
    "model.summary()"
   ]
  },
  {
   "cell_type": "code",
   "execution_count": 33,
   "id": "beb885e8",
   "metadata": {
    "scrolled": false
   },
   "outputs": [
    {
     "name": "stdout",
     "output_type": "stream",
     "text": [
      "Epoch 1/30\n",
      "93/93 [==============================] - 21s 206ms/step - loss: 3.4869\n",
      "Epoch 2/30\n",
      "93/93 [==============================] - 19s 208ms/step - loss: 2.8072\n",
      "Epoch 3/30\n",
      "93/93 [==============================] - 18s 198ms/step - loss: 2.7098\n",
      "Epoch 4/30\n",
      "93/93 [==============================] - 18s 195ms/step - loss: 2.6102\n",
      "Epoch 5/30\n",
      "93/93 [==============================] - 19s 200ms/step - loss: 2.5431\n",
      "Epoch 6/30\n",
      "93/93 [==============================] - 19s 202ms/step - loss: 2.4913\n",
      "Epoch 7/30\n",
      "93/93 [==============================] - 19s 202ms/step - loss: 2.4376\n",
      "Epoch 8/30\n",
      "93/93 [==============================] - 19s 199ms/step - loss: 2.3876\n",
      "Epoch 9/30\n",
      "93/93 [==============================] - 19s 199ms/step - loss: 2.3390\n",
      "Epoch 10/30\n",
      "93/93 [==============================] - 19s 201ms/step - loss: 2.2923\n",
      "Epoch 11/30\n",
      "93/93 [==============================] - 19s 202ms/step - loss: 2.2466\n",
      "Epoch 12/30\n",
      "93/93 [==============================] - 19s 201ms/step - loss: 2.2017\n",
      "Epoch 13/30\n",
      "93/93 [==============================] - 19s 201ms/step - loss: 2.1596\n",
      "Epoch 14/30\n",
      "93/93 [==============================] - 19s 201ms/step - loss: 2.1152\n",
      "Epoch 15/30\n",
      "93/93 [==============================] - 19s 201ms/step - loss: 2.0716\n",
      "Epoch 16/30\n",
      "93/93 [==============================] - 19s 201ms/step - loss: 2.0282\n",
      "Epoch 17/30\n",
      "93/93 [==============================] - 19s 200ms/step - loss: 1.9856\n",
      "Epoch 18/30\n",
      "93/93 [==============================] - 19s 200ms/step - loss: 1.9428\n",
      "Epoch 19/30\n",
      "93/93 [==============================] - 19s 200ms/step - loss: 1.9003\n",
      "Epoch 20/30\n",
      "93/93 [==============================] - 19s 200ms/step - loss: 1.8574\n",
      "Epoch 21/30\n",
      "93/93 [==============================] - 19s 200ms/step - loss: 1.8154\n",
      "Epoch 22/30\n",
      "93/93 [==============================] - 19s 200ms/step - loss: 1.7720\n",
      "Epoch 23/30\n",
      "93/93 [==============================] - 19s 200ms/step - loss: 1.7298\n",
      "Epoch 24/30\n",
      "93/93 [==============================] - 19s 200ms/step - loss: 1.6849\n",
      "Epoch 25/30\n",
      "93/93 [==============================] - 19s 200ms/step - loss: 1.6418\n",
      "Epoch 26/30\n",
      "93/93 [==============================] - 19s 200ms/step - loss: 1.5991\n",
      "Epoch 27/30\n",
      "93/93 [==============================] - 19s 200ms/step - loss: 1.5563\n",
      "Epoch 28/30\n",
      "93/93 [==============================] - 19s 200ms/step - loss: 1.5135\n",
      "Epoch 29/30\n",
      "93/93 [==============================] - 19s 201ms/step - loss: 1.4690\n",
      "Epoch 30/30\n",
      "93/93 [==============================] - 19s 201ms/step - loss: 1.4237\n"
     ]
    },
    {
     "data": {
      "text/plain": [
       "<keras.callbacks.History at 0x7f551324d520>"
      ]
     },
     "execution_count": 33,
     "metadata": {},
     "output_type": "execute_result"
    }
   ],
   "source": [
    "# optimizer와 loss등은 차차 배웁니다\n",
    "# 혹시 미리 알고 싶다면 아래 문서를 참고하세요\n",
    "# https://www.tensorflow.org/api_docs/python/tf/keras/optimizers\n",
    "# https://www.tensorflow.org/api_docs/python/tf/keras/losses\n",
    "# 양이 상당히 많은 편이니 지금 보는 것은 추천하지 않습니다\n",
    "optimizer = tf.keras.optimizers.Adam()\n",
    "loss = tf.keras.losses.SparseCategoricalCrossentropy(\n",
    "    from_logits=True,\n",
    "    reduction='none'\n",
    ")\n",
    "\n",
    "model.compile(loss=loss, optimizer=optimizer)\n",
    "model.fit(dataset, epochs=30)"
   ]
  },
  {
   "cell_type": "markdown",
   "id": "9f947653",
   "metadata": {},
   "source": [
    "## 모델로 text 생성"
   ]
  },
  {
   "cell_type": "code",
   "execution_count": null,
   "id": "eed67f44",
   "metadata": {},
   "outputs": [],
   "source": [
    "def generate_text(model, tokenizer, init_sentence=\"<start>\", max_len=20):\n",
    "    # 테스트를 위해서 입력받은 init_sentence도 텐서로 변환합니다\n",
    "    test_input = tokenizer.texts_to_sequences([init_sentence])\n",
    "    test_tensor = tf.convert_to_tensor(test_input, dtype=tf.int64)\n",
    "    end_token = tokenizer.word_index[\"<end>\"]\n",
    "\n",
    "    # 단어 하나씩 예측해 문장을 만듭니다\n",
    "    #    1. 입력받은 문장의 텐서를 입력합니다\n",
    "    #    2. 예측된 값 중 가장 높은 확률인 word index를 뽑아냅니다\n",
    "    #    3. 2에서 예측된 word index를 문장 뒤에 붙입니다\n",
    "    #    4. 모델이 <end>를 예측했거나, max_len에 도달했다면 문장 생성을 마칩니다\n",
    "    while True:\n",
    "        # 1\n",
    "        predict = model(test_tensor) \n",
    "        # 2\n",
    "        predict_word = tf.argmax(tf.nn.softmax(predict, axis=-1), axis=-1)[:, -1] \n",
    "        # 3 \n",
    "        test_tensor = tf.concat([test_tensor, tf.expand_dims(predict_word, axis=0)], axis=-1)\n",
    "        # 4\n",
    "        if predict_word.numpy()[0] == end_token: break\n",
    "        if test_tensor.shape[1] >= max_len: break\n",
    "\n",
    "    generated = \"\"\n",
    "    # tokenizer를 이용해 word index를 단어로 하나씩 변환합니다 \n",
    "    for word_index in test_tensor[0].numpy():\n",
    "        generated += tokenizer.index_word[word_index] + \" \"\n",
    "\n",
    "    return generated\n",
    "\n",
    "generate_text(model, tokenizer, init_sentence=\"<start> he\")"
   ]
  },
  {
   "cell_type": "code",
   "execution_count": null,
   "id": "f54fca9a",
   "metadata": {},
   "outputs": [],
   "source": []
  },
  {
   "cell_type": "code",
   "execution_count": null,
   "id": "6cb38728",
   "metadata": {},
   "outputs": [],
   "source": []
  },
  {
   "cell_type": "code",
   "execution_count": null,
   "id": "3a2a9519",
   "metadata": {},
   "outputs": [],
   "source": []
  },
  {
   "cell_type": "code",
   "execution_count": null,
   "id": "45903c12",
   "metadata": {},
   "outputs": [],
   "source": []
  },
  {
   "cell_type": "code",
   "execution_count": null,
   "id": "8d0fe123",
   "metadata": {},
   "outputs": [],
   "source": []
  },
  {
   "cell_type": "markdown",
   "id": "7710d6c6",
   "metadata": {},
   "source": [
    "#### token 예제"
   ]
  },
  {
   "cell_type": "code",
   "execution_count": 8,
   "id": "976a5eb9",
   "metadata": {},
   "outputs": [
    {
     "name": "stdout",
     "output_type": "stream",
     "text": [
      "<keras_preprocessing.text.Tokenizer object at 0x7f5513b2a430>\n",
      "['I love my dog', 'I love my cat', 'You love my dog!']\n",
      "['I love my dog', 'I love my cat', 'You love my dog!']\n",
      "{'love': 1, 'my': 2, 'i': 3, 'dog': 4, 'cat': 5, 'you': 6}\n"
     ]
    }
   ],
   "source": [
    "sentences = [\n",
    "  'I love my dog',\n",
    "  'I love my cat',\n",
    "  'You love my dog!'\n",
    "]\n",
    "\n",
    "tokenizer = tf.keras.preprocessing.text.Tokenizer(num_words = 100)\n",
    "print(tokenizer)\n",
    "print(sentences)\n",
    "tokenizer.fit_on_texts(sentences)\n",
    "print(sentences)\n",
    "word_index = tokenizer.word_index\n",
    "print(word_index)"
   ]
  },
  {
   "cell_type": "code",
   "execution_count": null,
   "id": "8e8d6aff",
   "metadata": {},
   "outputs": [],
   "source": []
  },
  {
   "cell_type": "code",
   "execution_count": null,
   "id": "92ed80f0",
   "metadata": {},
   "outputs": [],
   "source": []
  },
  {
   "cell_type": "code",
   "execution_count": null,
   "id": "0f59a61a",
   "metadata": {},
   "outputs": [],
   "source": []
  },
  {
   "cell_type": "code",
   "execution_count": null,
   "id": "f05f7470",
   "metadata": {},
   "outputs": [],
   "source": []
  }
 ],
 "metadata": {
  "kernelspec": {
   "display_name": "Python 3 (ipykernel)",
   "language": "python",
   "name": "python3"
  },
  "language_info": {
   "codemirror_mode": {
    "name": "ipython",
    "version": 3
   },
   "file_extension": ".py",
   "mimetype": "text/x-python",
   "name": "python",
   "nbconvert_exporter": "python",
   "pygments_lexer": "ipython3",
   "version": "3.9.7"
  }
 },
 "nbformat": 4,
 "nbformat_minor": 5
}
