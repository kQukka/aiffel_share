{
 "cells": [
  {
   "cell_type": "markdown",
   "id": "73049f81",
   "metadata": {},
   "source": [
    "# Movielens 영화 추천 실습\n",
    " \n",
    "데이터 셋 : Movielens \n",
    "\n",
    "- 유저가 영화에 대해 평점을 매긴 데이터가 데이터 크기 별로 있습니다. MovieLens 1M Dataset 사용을 권장합니다.\n",
    "- 별점 데이터는 대표적인 explicit 데이터입니다. 하지만 implicit 데이터로 간주하고 테스트해 볼 수 있습니다.\n",
    "- 별점을 시청횟수로 해석해서 생각하겠습니다.\n",
    "- 또한 유저가 3점 미만으로 준 데이터는 선호하지 않는다고 가정하고 제외하겠습니다.\n"
   ]
  },
  {
   "cell_type": "markdown",
   "id": "f6d8d31b",
   "metadata": {},
   "source": [
    "# 1) 데이터 준비와 전처리\n",
    "- Movielens 데이터\n",
    "- rating.dat : 인덱싱된 사용자-영화-평점 데이터"
   ]
  },
  {
   "cell_type": "code",
   "execution_count": 1,
   "id": "dd527a3a",
   "metadata": {},
   "outputs": [],
   "source": [
    "import pandas as pd\n",
    "import os"
   ]
  },
  {
   "cell_type": "code",
   "execution_count": 2,
   "id": "484da830",
   "metadata": {},
   "outputs": [
    {
     "data": {
      "text/html": [
       "<div>\n",
       "<style scoped>\n",
       "    .dataframe tbody tr th:only-of-type {\n",
       "        vertical-align: middle;\n",
       "    }\n",
       "\n",
       "    .dataframe tbody tr th {\n",
       "        vertical-align: top;\n",
       "    }\n",
       "\n",
       "    .dataframe thead th {\n",
       "        text-align: right;\n",
       "    }\n",
       "</style>\n",
       "<table border=\"1\" class=\"dataframe\">\n",
       "  <thead>\n",
       "    <tr style=\"text-align: right;\">\n",
       "      <th></th>\n",
       "      <th>title</th>\n",
       "      <th>genres</th>\n",
       "      <th>title_low</th>\n",
       "      <th>year</th>\n",
       "    </tr>\n",
       "    <tr>\n",
       "      <th>id</th>\n",
       "      <th></th>\n",
       "      <th></th>\n",
       "      <th></th>\n",
       "      <th></th>\n",
       "    </tr>\n",
       "  </thead>\n",
       "  <tbody>\n",
       "    <tr>\n",
       "      <th>1</th>\n",
       "      <td>Toy Story (1995)</td>\n",
       "      <td>Adventure|Animation|Children|Comedy|Fantasy</td>\n",
       "      <td>toy story</td>\n",
       "      <td>1995</td>\n",
       "    </tr>\n",
       "    <tr>\n",
       "      <th>2</th>\n",
       "      <td>Jumanji (1995)</td>\n",
       "      <td>Adventure|Children|Fantasy</td>\n",
       "      <td>jumanji</td>\n",
       "      <td>1995</td>\n",
       "    </tr>\n",
       "    <tr>\n",
       "      <th>3</th>\n",
       "      <td>Grumpier Old Men (1995)</td>\n",
       "      <td>Comedy|Romance</td>\n",
       "      <td>grumpier old men</td>\n",
       "      <td>1995</td>\n",
       "    </tr>\n",
       "    <tr>\n",
       "      <th>4</th>\n",
       "      <td>Waiting to Exhale (1995)</td>\n",
       "      <td>Comedy|Drama|Romance</td>\n",
       "      <td>waiting to exhale</td>\n",
       "      <td>1995</td>\n",
       "    </tr>\n",
       "    <tr>\n",
       "      <th>5</th>\n",
       "      <td>Father of the Bride Part II (1995)</td>\n",
       "      <td>Comedy</td>\n",
       "      <td>father of the bride part ii</td>\n",
       "      <td>1995</td>\n",
       "    </tr>\n",
       "  </tbody>\n",
       "</table>\n",
       "</div>"
      ],
      "text/plain": [
       "                                 title  \\\n",
       "id                                       \n",
       "1                     Toy Story (1995)   \n",
       "2                       Jumanji (1995)   \n",
       "3              Grumpier Old Men (1995)   \n",
       "4             Waiting to Exhale (1995)   \n",
       "5   Father of the Bride Part II (1995)   \n",
       "\n",
       "                                         genres                    title_low  \\\n",
       "id                                                                             \n",
       "1   Adventure|Animation|Children|Comedy|Fantasy                    toy story   \n",
       "2                    Adventure|Children|Fantasy                      jumanji   \n",
       "3                                Comedy|Romance             grumpier old men   \n",
       "4                          Comedy|Drama|Romance            waiting to exhale   \n",
       "5                                        Comedy  father of the bride part ii   \n",
       "\n",
       "    year  \n",
       "id        \n",
       "1   1995  \n",
       "2   1995  \n",
       "3   1995  \n",
       "4   1995  \n",
       "5   1995  "
      ]
     },
     "execution_count": 2,
     "metadata": {},
     "output_type": "execute_result"
    }
   ],
   "source": [
    "# movie data\n",
    "movie_file_path='./data/ml_small/movies.csv'\n",
    "movies = pd.read_csv(movie_file_path)\n",
    "movies.index = list(movies['movieId'])\n",
    "movies.drop(columns='movieId', inplace=True)\n",
    "movies.index.name=\"id\"\n",
    "\n",
    "movies['title_low'] = movies['title'].str[:-7].str.lower()\n",
    "movies['year'] = movies['title'].str[-5:-1]\n",
    "movies.head()\n"
   ]
  },
  {
   "cell_type": "code",
   "execution_count": 3,
   "id": "fc202fbd",
   "metadata": {},
   "outputs": [
    {
     "name": "stdout",
     "output_type": "stream",
     "text": [
      "orginal_data_size: 100836, filtered_data_size: 81763\n",
      "Ratio of Remaining Data is 81.09%\n"
     ]
    },
    {
     "data": {
      "text/html": [
       "<div>\n",
       "<style scoped>\n",
       "    .dataframe tbody tr th:only-of-type {\n",
       "        vertical-align: middle;\n",
       "    }\n",
       "\n",
       "    .dataframe tbody tr th {\n",
       "        vertical-align: top;\n",
       "    }\n",
       "\n",
       "    .dataframe thead th {\n",
       "        text-align: right;\n",
       "    }\n",
       "</style>\n",
       "<table border=\"1\" class=\"dataframe\">\n",
       "  <thead>\n",
       "    <tr style=\"text-align: right;\">\n",
       "      <th></th>\n",
       "      <th>userId</th>\n",
       "      <th>movieId</th>\n",
       "      <th>rating</th>\n",
       "      <th>timestamp</th>\n",
       "    </tr>\n",
       "  </thead>\n",
       "  <tbody>\n",
       "    <tr>\n",
       "      <th>0</th>\n",
       "      <td>1</td>\n",
       "      <td>1</td>\n",
       "      <td>4.0</td>\n",
       "      <td>964982703</td>\n",
       "    </tr>\n",
       "    <tr>\n",
       "      <th>1</th>\n",
       "      <td>1</td>\n",
       "      <td>3</td>\n",
       "      <td>4.0</td>\n",
       "      <td>964981247</td>\n",
       "    </tr>\n",
       "    <tr>\n",
       "      <th>2</th>\n",
       "      <td>1</td>\n",
       "      <td>6</td>\n",
       "      <td>4.0</td>\n",
       "      <td>964982224</td>\n",
       "    </tr>\n",
       "    <tr>\n",
       "      <th>3</th>\n",
       "      <td>1</td>\n",
       "      <td>47</td>\n",
       "      <td>5.0</td>\n",
       "      <td>964983815</td>\n",
       "    </tr>\n",
       "    <tr>\n",
       "      <th>4</th>\n",
       "      <td>1</td>\n",
       "      <td>50</td>\n",
       "      <td>5.0</td>\n",
       "      <td>964982931</td>\n",
       "    </tr>\n",
       "  </tbody>\n",
       "</table>\n",
       "</div>"
      ],
      "text/plain": [
       "   userId  movieId  rating  timestamp\n",
       "0       1        1     4.0  964982703\n",
       "1       1        3     4.0  964981247\n",
       "2       1        6     4.0  964982224\n",
       "3       1       47     5.0  964983815\n",
       "4       1       50     5.0  964982931"
      ]
     },
     "execution_count": 3,
     "metadata": {},
     "output_type": "execute_result"
    }
   ],
   "source": [
    "# rating data\n",
    "\n",
    "rating_file_path='./data/ml_small/ratings.csv'\n",
    "ratings = pd.read_csv(rating_file_path)\n",
    "orginal_data_size = len(ratings)\n",
    "\n",
    "# 3점 이상만 남깁니다.\n",
    "ratings = ratings[ratings['rating']>=3]\n",
    "filtered_data_size = len(ratings)\n",
    "\n",
    "print(f'orginal_data_size: {orginal_data_size}, filtered_data_size: {filtered_data_size}')\n",
    "print(f'Ratio of Remaining Data is {filtered_data_size / orginal_data_size:.2%}')\n",
    "\n",
    "ratings.head()\n"
   ]
  },
  {
   "cell_type": "markdown",
   "id": "793fea7f",
   "metadata": {},
   "source": [
    "# 2) 데이터 분석\n",
    "- ratings에 있는 유니크한 영화 개수\n",
    "- ratings에 있는 유니크한 사용자 수\n",
    "- 가장 인기 있는 영화 30개(인기순)"
   ]
  },
  {
   "cell_type": "code",
   "execution_count": 4,
   "id": "c344d518",
   "metadata": {},
   "outputs": [
    {
     "data": {
      "text/html": [
       "<div>\n",
       "<style scoped>\n",
       "    .dataframe tbody tr th:only-of-type {\n",
       "        vertical-align: middle;\n",
       "    }\n",
       "\n",
       "    .dataframe tbody tr th {\n",
       "        vertical-align: top;\n",
       "    }\n",
       "\n",
       "    .dataframe thead th {\n",
       "        text-align: right;\n",
       "    }\n",
       "</style>\n",
       "<table border=\"1\" class=\"dataframe\">\n",
       "  <thead>\n",
       "    <tr style=\"text-align: right;\">\n",
       "      <th></th>\n",
       "      <th>userId</th>\n",
       "      <th>movieId</th>\n",
       "      <th>rating</th>\n",
       "      <th>timestamp</th>\n",
       "    </tr>\n",
       "  </thead>\n",
       "  <tbody>\n",
       "    <tr>\n",
       "      <th>0</th>\n",
       "      <td>1</td>\n",
       "      <td>1</td>\n",
       "      <td>4.0</td>\n",
       "      <td>964982703</td>\n",
       "    </tr>\n",
       "    <tr>\n",
       "      <th>1</th>\n",
       "      <td>1</td>\n",
       "      <td>3</td>\n",
       "      <td>4.0</td>\n",
       "      <td>964981247</td>\n",
       "    </tr>\n",
       "    <tr>\n",
       "      <th>2</th>\n",
       "      <td>1</td>\n",
       "      <td>6</td>\n",
       "      <td>4.0</td>\n",
       "      <td>964982224</td>\n",
       "    </tr>\n",
       "    <tr>\n",
       "      <th>3</th>\n",
       "      <td>1</td>\n",
       "      <td>47</td>\n",
       "      <td>5.0</td>\n",
       "      <td>964983815</td>\n",
       "    </tr>\n",
       "    <tr>\n",
       "      <th>4</th>\n",
       "      <td>1</td>\n",
       "      <td>50</td>\n",
       "      <td>5.0</td>\n",
       "      <td>964982931</td>\n",
       "    </tr>\n",
       "  </tbody>\n",
       "</table>\n",
       "</div>"
      ],
      "text/plain": [
       "   userId  movieId  rating  timestamp\n",
       "0       1        1     4.0  964982703\n",
       "1       1        3     4.0  964981247\n",
       "2       1        6     4.0  964982224\n",
       "3       1       47     5.0  964983815\n",
       "4       1       50     5.0  964982931"
      ]
     },
     "execution_count": 4,
     "metadata": {},
     "output_type": "execute_result"
    }
   ],
   "source": [
    "ratings.head()"
   ]
  },
  {
   "cell_type": "code",
   "execution_count": 5,
   "id": "502d65cb",
   "metadata": {
    "scrolled": true
   },
   "outputs": [
    {
     "data": {
      "text/html": [
       "<div>\n",
       "<style scoped>\n",
       "    .dataframe tbody tr th:only-of-type {\n",
       "        vertical-align: middle;\n",
       "    }\n",
       "\n",
       "    .dataframe tbody tr th {\n",
       "        vertical-align: top;\n",
       "    }\n",
       "\n",
       "    .dataframe thead th {\n",
       "        text-align: right;\n",
       "    }\n",
       "</style>\n",
       "<table border=\"1\" class=\"dataframe\">\n",
       "  <thead>\n",
       "    <tr style=\"text-align: right;\">\n",
       "      <th></th>\n",
       "      <th>title</th>\n",
       "      <th>genres</th>\n",
       "      <th>title_low</th>\n",
       "      <th>year</th>\n",
       "    </tr>\n",
       "    <tr>\n",
       "      <th>id</th>\n",
       "      <th></th>\n",
       "      <th></th>\n",
       "      <th></th>\n",
       "      <th></th>\n",
       "    </tr>\n",
       "  </thead>\n",
       "  <tbody>\n",
       "    <tr>\n",
       "      <th>1</th>\n",
       "      <td>Toy Story (1995)</td>\n",
       "      <td>Adventure|Animation|Children|Comedy|Fantasy</td>\n",
       "      <td>toy story</td>\n",
       "      <td>1995</td>\n",
       "    </tr>\n",
       "    <tr>\n",
       "      <th>2</th>\n",
       "      <td>Jumanji (1995)</td>\n",
       "      <td>Adventure|Children|Fantasy</td>\n",
       "      <td>jumanji</td>\n",
       "      <td>1995</td>\n",
       "    </tr>\n",
       "    <tr>\n",
       "      <th>3</th>\n",
       "      <td>Grumpier Old Men (1995)</td>\n",
       "      <td>Comedy|Romance</td>\n",
       "      <td>grumpier old men</td>\n",
       "      <td>1995</td>\n",
       "    </tr>\n",
       "    <tr>\n",
       "      <th>4</th>\n",
       "      <td>Waiting to Exhale (1995)</td>\n",
       "      <td>Comedy|Drama|Romance</td>\n",
       "      <td>waiting to exhale</td>\n",
       "      <td>1995</td>\n",
       "    </tr>\n",
       "    <tr>\n",
       "      <th>5</th>\n",
       "      <td>Father of the Bride Part II (1995)</td>\n",
       "      <td>Comedy</td>\n",
       "      <td>father of the bride part ii</td>\n",
       "      <td>1995</td>\n",
       "    </tr>\n",
       "  </tbody>\n",
       "</table>\n",
       "</div>"
      ],
      "text/plain": [
       "                                 title  \\\n",
       "id                                       \n",
       "1                     Toy Story (1995)   \n",
       "2                       Jumanji (1995)   \n",
       "3              Grumpier Old Men (1995)   \n",
       "4             Waiting to Exhale (1995)   \n",
       "5   Father of the Bride Part II (1995)   \n",
       "\n",
       "                                         genres                    title_low  \\\n",
       "id                                                                             \n",
       "1   Adventure|Animation|Children|Comedy|Fantasy                    toy story   \n",
       "2                    Adventure|Children|Fantasy                      jumanji   \n",
       "3                                Comedy|Romance             grumpier old men   \n",
       "4                          Comedy|Drama|Romance            waiting to exhale   \n",
       "5                                        Comedy  father of the bride part ii   \n",
       "\n",
       "    year  \n",
       "id        \n",
       "1   1995  \n",
       "2   1995  \n",
       "3   1995  \n",
       "4   1995  \n",
       "5   1995  "
      ]
     },
     "execution_count": 5,
     "metadata": {},
     "output_type": "execute_result"
    }
   ],
   "source": [
    "movies.head()"
   ]
  },
  {
   "cell_type": "code",
   "execution_count": 6,
   "id": "8832c70e",
   "metadata": {
    "scrolled": true
   },
   "outputs": [
    {
     "name": "stdout",
     "output_type": "stream",
     "text": [
      "movie num :  8452\n",
      "movie id :  [     1      3      6 ... 160836 163937 163981]\n"
     ]
    }
   ],
   "source": [
    "# 평가된 영화의 개수\n",
    "num_movie = ratings['movieId'].nunique()\n",
    "print('movie num : ', num_movie)\n",
    "\n",
    "id_uniq_movie = ratings['movieId'].unique()\n",
    "print('movie id : ', id_uniq_movie)\n"
   ]
  },
  {
   "cell_type": "code",
   "execution_count": 7,
   "id": "b969f9e5",
   "metadata": {
    "scrolled": true
   },
   "outputs": [
    {
     "name": "stdout",
     "output_type": "stream",
     "text": [
      "user num :  609\n",
      "user id :  [  1   2   3   4   5   6   7   8   9  10  11  12  13  14  15  16  17  18\n",
      "  19  20  21  22  23  24  25  26  27  28  29  30  31  32  33  34  35  36\n",
      "  37  38  39  40  41  42  43  44  45  46  47  48  49  50  51  52  53  54\n",
      "  55  56  57  58  59  60  61  62  63  64  65  66  67  68  69  70  71  72\n",
      "  73  74  75  76  77  78  79  80  81  82  83  84  85  86  87  88  89  90\n",
      "  91  92  93  94  95  96  97  98  99 100 101 102 103 104 105 106 107 108\n",
      " 109 110 111 112 113 114 115 116 117 118 119 120 121 122 123 124 125 126\n",
      " 127 128 129 130 131 132 133 134 135 136 137 138 139 140 141 142 143 144\n",
      " 145 146 147 148 149 150 151 152 153 154 155 156 157 158 159 160 161 162\n",
      " 163 164 165 166 167 168 169 170 171 172 173 174 175 176 177 178 179 180\n",
      " 181 182 183 184 185 186 187 188 189 190 191 192 193 194 195 196 197 198\n",
      " 199 200 201 202 203 204 205 206 207 208 209 210 211 212 213 214 215 216\n",
      " 217 218 219 220 221 222 223 224 225 226 227 228 229 230 231 232 233 234\n",
      " 235 236 237 238 239 240 241 242 243 244 245 246 247 248 249 250 251 252\n",
      " 253 254 255 256 257 258 259 260 261 262 263 264 265 266 267 268 269 270\n",
      " 271 272 273 274 275 276 277 278 279 280 281 282 283 284 285 286 287 288\n",
      " 289 290 291 292 293 294 295 296 297 298 299 300 301 302 303 304 305 306\n",
      " 307 308 309 310 311 312 313 314 315 316 317 318 319 320 321 322 323 324\n",
      " 325 326 327 328 329 330 331 332 333 334 335 336 337 338 339 340 341 342\n",
      " 343 344 345 346 347 348 349 350 351 352 353 354 355 356 357 358 359 360\n",
      " 361 362 363 364 365 366 367 368 369 370 371 372 373 374 375 376 377 378\n",
      " 379 380 381 382 383 384 385 386 387 388 389 390 391 392 393 394 395 396\n",
      " 397 398 399 400 401 402 403 404 405 406 407 408 409 410 411 412 413 414\n",
      " 415 416 417 418 419 420 421 422 423 424 425 426 427 428 429 430 431 432\n",
      " 433 434 435 436 437 438 439 440 441 443 444 445 446 447 448 449 450 451\n",
      " 452 453 454 455 456 457 458 459 460 461 462 463 464 465 466 467 468 469\n",
      " 470 471 472 473 474 475 476 477 478 479 480 481 482 483 484 485 486 487\n",
      " 488 489 490 491 492 493 494 495 496 497 498 499 500 501 502 503 504 505\n",
      " 506 507 508 509 510 511 512 513 514 515 516 517 518 519 520 521 522 523\n",
      " 524 525 526 527 528 529 530 531 532 533 534 535 536 537 538 539 540 541\n",
      " 542 543 544 545 546 547 548 549 550 551 552 553 554 555 556 557 558 559\n",
      " 560 561 562 563 564 565 566 567 568 569 570 571 572 573 574 575 576 577\n",
      " 578 579 580 581 582 583 584 585 586 587 588 589 590 591 592 593 594 595\n",
      " 596 597 598 599 600 601 602 603 604 605 606 607 608 609 610]\n"
     ]
    }
   ],
   "source": [
    "# 평가한 사람의 수\n",
    "num_user = ratings['userId'].nunique()\n",
    "print('user num : ', num_user)\n",
    "\n",
    "id_uniq_user = ratings['userId'].unique()\n",
    "print('user id : ', id_uniq_user)\n"
   ]
  },
  {
   "cell_type": "code",
   "execution_count": 8,
   "id": "b176db66",
   "metadata": {
    "scrolled": true
   },
   "outputs": [
    {
     "name": "stdout",
     "output_type": "stream",
     "text": [
      "rank / num_rating / id  :  name\n",
      "1 / 315 / 356  :  Forrest Gump (1994)\n",
      "2 / 313 / 318  :  Shawshank Redemption, The (1994)\n",
      "3 / 287 / 296  :  Pulp Fiction (1994)\n",
      "4 / 263 / 593  :  Silence of the Lambs, The (1991)\n",
      "5 / 257 / 2571  :  Matrix, The (1999)\n",
      "6 / 234 / 260  :  Star Wars: Episode IV - A New Hope (1977)\n",
      "7 / 218 / 110  :  Braveheart (1995)\n",
      "8 / 216 / 480  :  Jurassic Park (1993)\n",
      "9 / 210 / 589  :  Terminator 2: Judgment Day (1991)\n",
      "10 / 206 / 2959  :  Fight Club (1999)\n",
      "11 / 205 / 527  :  Schindler's List (1993)\n",
      "12 / 199 / 1  :  Toy Story (1995)\n",
      "13 / 199 / 1196  :  Star Wars: Episode V - The Empire Strikes Back (1980)\n",
      "14 / 197 / 50  :  Usual Suspects, The (1995)\n",
      "15 / 191 / 47  :  Seven (a.k.a. Se7en) (1995)\n",
      "16 / 191 / 1198  :  Raiders of the Lost Ark (Indiana Jones and the Raiders of the Lost Ark) (1981)\n",
      "17 / 186 / 2858  :  American Beauty (1999)\n",
      "18 / 185 / 1210  :  Star Wars: Episode VI - Return of the Jedi (1983)\n",
      "19 / 185 / 150  :  Apollo 13 (1995)\n",
      "20 / 183 / 4993  :  Lord of the Rings: The Fellowship of the Ring, The (2001)\n",
      "21 / 182 / 457  :  Fugitive, The (1993)\n",
      "22 / 179 / 2028  :  Saving Private Ryan (1998)\n",
      "23 / 178 / 858  :  Godfather, The (1972)\n",
      "24 / 174 / 7153  :  Lord of the Rings: The Return of the King, The (2003)\n",
      "25 / 174 / 5952  :  Lord of the Rings: The Two Towers, The (2002)\n",
      "26 / 172 / 592  :  Batman (1989)\n",
      "27 / 171 / 32  :  Twelve Monkeys (a.k.a. 12 Monkeys) (1995)\n",
      "28 / 171 / 608  :  Fargo (1996)\n",
      "29 / 169 / 588  :  Aladdin (1992)\n",
      "30 / 164 / 780  :  Independence Day (a.k.a. ID4) (1996)\n"
     ]
    }
   ],
   "source": [
    "# 평이 많은 영화 30개\n",
    "cnt_movie = ratings.groupby('movieId')['userId'].count()\n",
    "many_rating = cnt_movie.sort_values(ascending=False).head(30)\n",
    "\n",
    "title_movie = movies['title']\n",
    "title_many_rating = title_movie[many_rating.index.tolist()]\n",
    "\n",
    "rank = 1\n",
    "print('rank / num_rating / id  :  name')\n",
    "for id_movie, num_rating in many_rating.items():\n",
    "    title = title_movie[id_movie]\n",
    "    print(f'{rank} / {num_rating} / {id_movie}  :  {title}')\n",
    "    rank += 1\n"
   ]
  },
  {
   "cell_type": "code",
   "execution_count": 9,
   "id": "cf875a86",
   "metadata": {
    "scrolled": false
   },
   "outputs": [
    {
     "name": "stdout",
     "output_type": "stream",
     "text": [
      "movieId\n",
      "356      315\n",
      "318      313\n",
      "296      287\n",
      "593      263\n",
      "2571     257\n",
      "        ... \n",
      "6953      20\n",
      "3504      20\n",
      "54995     20\n",
      "2431      20\n",
      "41997     20\n",
      "Name: userId, Length: 1000, dtype: int64\n"
     ]
    }
   ],
   "source": [
    "print(cnt_movie.sort_values(ascending=False).head(1000))"
   ]
  },
  {
   "cell_type": "code",
   "execution_count": 10,
   "id": "69ac2bbe",
   "metadata": {
    "scrolled": true
   },
   "outputs": [
    {
     "name": "stdout",
     "output_type": "stream",
     "text": [
      "count    8452.000000\n",
      "mean        9.673805\n",
      "std        21.179015\n",
      "min         1.000000\n",
      "25%         1.000000\n",
      "50%         2.000000\n",
      "75%         8.000000\n",
      "max       315.000000\n",
      "Name: userId, dtype: float64\n"
     ]
    }
   ],
   "source": [
    "des_cnt_movie = cnt_movie.describe()\n",
    "print(des_cnt_movie)\n"
   ]
  },
  {
   "cell_type": "code",
   "execution_count": 11,
   "id": "3004f374",
   "metadata": {},
   "outputs": [
    {
     "name": "stdout",
     "output_type": "stream",
     "text": [
      "rank / num_rating / id  :  name\n",
      "1 / 4.474719101123595 / 858  :  Godfather, The (1972)\n",
      "2 / 4.466453674121405 / 318  :  Shawshank Redemption, The (1994)\n",
      "3 / 4.422330097087379 / 2959  :  Fight Club (1999)\n",
      "4 / 4.421951219512195 / 527  :  Schindler's List (1993)\n",
      "5 / 4.402723735408561 / 2571  :  Matrix, The (1999)\n",
      "6 / 4.395299145299146 / 260  :  Star Wars: Episode IV - A New Hope (1977)\n",
      "7 / 4.376306620209059 / 296  :  Pulp Fiction (1994)\n",
      "8 / 4.358870967741935 / 1221  :  Godfather: Part II, The (1974)\n",
      "9 / 4.346733668341709 / 1196  :  Star Wars: Episode V - The Empire Strikes Back (1980)\n",
      "10 / 4.340740740740741 / 1197  :  Princess Bride, The (1987)\n",
      "11 / 4.337301587301587 / 1136  :  Monty Python and the Holy Grail (1975)\n",
      "12 / 4.336633663366337 / 1208  :  Apocalypse Now (1979)\n",
      "13 / 4.336283185840708 / 4973  :  Amelie (Fabuleux destin d'Amélie Poulain, Le) (2001)\n",
      "14 / 4.334951456310679 / 48516  :  Departed, The (2006)\n",
      "15 / 4.322335025380711 / 50  :  Usual Suspects, The (1995)\n",
      "16 / 4.319371727748691 / 1198  :  Raiders of the Lost Ark (Indiana Jones and the Raiders of the Lost Ark) (1981)\n",
      "17 / 4.318548387096774 / 1089  :  Reservoir Dogs (1992)\n",
      "18 / 4.315573770491803 / 1213  :  Goodfellas (1990)\n",
      "19 / 4.310077519379845 / 79132  :  Inception (2010)\n",
      "20 / 4.309027777777778 / 58559  :  Dark Knight, The (2008)\n",
      "21 / 4.300546448087432 / 4993  :  Lord of the Rings: The Fellowship of the Ring, The (2001)\n",
      "22 / 4.300380228136882 / 593  :  Silence of the Lambs, The (1991)\n",
      "23 / 4.298657718120805 / 4226  :  Memento (2000)\n",
      "24 / 4.298245614035087 / 541  :  Blade Runner (1982)\n",
      "25 / 4.296747967479675 / 7361  :  Eternal Sunshine of the Spotless Mind (2004)\n",
      "26 / 4.28494623655914 / 2858  :  American Beauty (1999)\n",
      "27 / 4.275675675675676 / 1210  :  Star Wars: Episode VI - Return of the Jedi (1983)\n",
      "28 / 4.275193798449612 / 1193  :  One Flew Over the Cuckoo's Nest (1975)\n",
      "29 / 4.264367816091954 / 7153  :  Lord of the Rings: The Return of the King, The (2003)\n",
      "30 / 4.2634920634920634 / 356  :  Forrest Gump (1994)\n"
     ]
    }
   ],
   "source": [
    "# 평점 수가 100개 이상, 평균 평점 순 \n",
    "base_cnt = 100\n",
    "movie_cnt_100 = cnt_movie[cnt_movie > base_cnt]\n",
    "id_movie_cnt_100 = movie_cnt_100.index.tolist()\n",
    "\n",
    "rating_movie = ratings[['movieId', 'rating']]\n",
    "isin_cnt_100 = rating_movie['movieId'].isin(id_movie_cnt_100)\n",
    "rating_movie = rating_movie.loc[isin_cnt_100]\n",
    "\n",
    "mean_rating_movie = rating_movie.groupby('movieId')['rating'].mean()\n",
    "many_rating_mean = mean_rating_movie.sort_values(ascending=False).head(30)\n",
    "\n",
    "rank = 1\n",
    "print('rank / num_rating / id  :  name')\n",
    "for id_movie, num_rating in many_rating_mean.items():\n",
    "    title = title_movie[id_movie]\n",
    "    print(f'{rank} / {num_rating} / {id_movie}  :  {title}')\n",
    "    rank += 1"
   ]
  },
  {
   "cell_type": "markdown",
   "id": "113d90fb",
   "metadata": {},
   "source": [
    "# 3) 내가 선호하는 영화를 5가지 골라서 ratings에 추가해 줍시다."
   ]
  },
  {
   "cell_type": "code",
   "execution_count": 12,
   "id": "5627a530",
   "metadata": {},
   "outputs": [
    {
     "name": "stdout",
     "output_type": "stream",
     "text": [
      "id\n",
      "66171     2009\n",
      "102903    2013\n",
      "111759    2014\n",
      "135143    2016\n",
      "162600    2016\n",
      "Name: year, dtype: object\n"
     ]
    }
   ],
   "source": [
    "# 본인이 좋아하시는 아티스트 데이터로 바꿔서 추가하셔도 됩니다! 단, 이름은 꼭 데이터셋에 있는 것과 동일하게 맞춰주세요. \n",
    "my_favorite = ['Fantastic Beasts and Where to Find Them', \n",
    "               \"Miss Peregrine's Home for Peculiar Children\", \n",
    "               'Now You See Me', \n",
    "               'Push', \n",
    "               'Edge of Tomorrow']\n",
    "my_favorite = [name.lower() for name in my_favorite]\n",
    "\n",
    "isin_favorite = movies['title_low'].isin(my_favorite)\n",
    "movie_favorite = movies.loc[isin_favorite]\n",
    "id_favorite = movie_favorite.index.tolist()\n",
    "\n",
    "title_favor = movies['title'][id_favorite]\n",
    "genores_favor = movies['genres'][id_favorite]\n",
    "year_favor = movies['year'][id_favorite]\n",
    "print(year_favor)\n"
   ]
  },
  {
   "cell_type": "code",
   "execution_count": 13,
   "id": "ea9908ae",
   "metadata": {
    "scrolled": true
   },
   "outputs": [
    {
     "data": {
      "text/html": [
       "<div>\n",
       "<style scoped>\n",
       "    .dataframe tbody tr th:only-of-type {\n",
       "        vertical-align: middle;\n",
       "    }\n",
       "\n",
       "    .dataframe tbody tr th {\n",
       "        vertical-align: top;\n",
       "    }\n",
       "\n",
       "    .dataframe thead th {\n",
       "        text-align: right;\n",
       "    }\n",
       "</style>\n",
       "<table border=\"1\" class=\"dataframe\">\n",
       "  <thead>\n",
       "    <tr style=\"text-align: right;\">\n",
       "      <th></th>\n",
       "      <th>userId</th>\n",
       "      <th>movieId</th>\n",
       "      <th>rating</th>\n",
       "      <th>timestamp</th>\n",
       "    </tr>\n",
       "  </thead>\n",
       "  <tbody>\n",
       "    <tr>\n",
       "      <th>100831</th>\n",
       "      <td>610</td>\n",
       "      <td>166534</td>\n",
       "      <td>4.0</td>\n",
       "      <td>1.493848e+09</td>\n",
       "    </tr>\n",
       "    <tr>\n",
       "      <th>100832</th>\n",
       "      <td>610</td>\n",
       "      <td>168248</td>\n",
       "      <td>5.0</td>\n",
       "      <td>1.493850e+09</td>\n",
       "    </tr>\n",
       "    <tr>\n",
       "      <th>100833</th>\n",
       "      <td>610</td>\n",
       "      <td>168250</td>\n",
       "      <td>5.0</td>\n",
       "      <td>1.494273e+09</td>\n",
       "    </tr>\n",
       "    <tr>\n",
       "      <th>100834</th>\n",
       "      <td>610</td>\n",
       "      <td>168252</td>\n",
       "      <td>5.0</td>\n",
       "      <td>1.493846e+09</td>\n",
       "    </tr>\n",
       "    <tr>\n",
       "      <th>100835</th>\n",
       "      <td>610</td>\n",
       "      <td>170875</td>\n",
       "      <td>3.0</td>\n",
       "      <td>1.493846e+09</td>\n",
       "    </tr>\n",
       "    <tr>\n",
       "      <th>0</th>\n",
       "      <td>lee</td>\n",
       "      <td>66171</td>\n",
       "      <td>5.0</td>\n",
       "      <td>NaN</td>\n",
       "    </tr>\n",
       "    <tr>\n",
       "      <th>1</th>\n",
       "      <td>lee</td>\n",
       "      <td>102903</td>\n",
       "      <td>5.0</td>\n",
       "      <td>NaN</td>\n",
       "    </tr>\n",
       "    <tr>\n",
       "      <th>2</th>\n",
       "      <td>lee</td>\n",
       "      <td>111759</td>\n",
       "      <td>5.0</td>\n",
       "      <td>NaN</td>\n",
       "    </tr>\n",
       "    <tr>\n",
       "      <th>3</th>\n",
       "      <td>lee</td>\n",
       "      <td>135143</td>\n",
       "      <td>5.0</td>\n",
       "      <td>NaN</td>\n",
       "    </tr>\n",
       "    <tr>\n",
       "      <th>4</th>\n",
       "      <td>lee</td>\n",
       "      <td>162600</td>\n",
       "      <td>5.0</td>\n",
       "      <td>NaN</td>\n",
       "    </tr>\n",
       "  </tbody>\n",
       "</table>\n",
       "</div>"
      ],
      "text/plain": [
       "       userId  movieId  rating     timestamp\n",
       "100831    610   166534     4.0  1.493848e+09\n",
       "100832    610   168248     5.0  1.493850e+09\n",
       "100833    610   168250     5.0  1.494273e+09\n",
       "100834    610   168252     5.0  1.493846e+09\n",
       "100835    610   170875     3.0  1.493846e+09\n",
       "0         lee    66171     5.0           NaN\n",
       "1         lee   102903     5.0           NaN\n",
       "2         lee   111759     5.0           NaN\n",
       "3         lee   135143     5.0           NaN\n",
       "4         lee   162600     5.0           NaN"
      ]
     },
     "execution_count": 13,
     "metadata": {},
     "output_type": "execute_result"
    }
   ],
   "source": [
    "# 'zimin'이라는 user_id가 위 아티스트의 노래를 30회씩 들었다고 가정하겠습니다.\n",
    "my_playlist = pd.DataFrame({'userId': ['lee']*5, 'movieId': id_favorite, 'rating':[5.0]*5})\n",
    "\n",
    "if not ratings.isin({'userId':['lee']})['userId'].any(): \n",
    "    ratings = ratings.append(my_playlist)                           \n",
    "\n",
    "ratings.tail(10)       # 잘 추가되었는지 확인해 봅시다."
   ]
  },
  {
   "cell_type": "code",
   "execution_count": 14,
   "id": "1a18db95",
   "metadata": {
    "scrolled": true
   },
   "outputs": [
    {
     "name": "stdout",
     "output_type": "stream",
     "text": [
      "610\n",
      "userId column indexing OK!!\n",
      "movieId column indexing OK!!\n"
     ]
    },
    {
     "data": {
      "text/html": [
       "<div>\n",
       "<style scoped>\n",
       "    .dataframe tbody tr th:only-of-type {\n",
       "        vertical-align: middle;\n",
       "    }\n",
       "\n",
       "    .dataframe tbody tr th {\n",
       "        vertical-align: top;\n",
       "    }\n",
       "\n",
       "    .dataframe thead th {\n",
       "        text-align: right;\n",
       "    }\n",
       "</style>\n",
       "<table border=\"1\" class=\"dataframe\">\n",
       "  <thead>\n",
       "    <tr style=\"text-align: right;\">\n",
       "      <th></th>\n",
       "      <th>userId</th>\n",
       "      <th>movieId</th>\n",
       "      <th>rating</th>\n",
       "      <th>timestamp</th>\n",
       "    </tr>\n",
       "  </thead>\n",
       "  <tbody>\n",
       "    <tr>\n",
       "      <th>0</th>\n",
       "      <td>609</td>\n",
       "      <td>5398</td>\n",
       "      <td>5.0</td>\n",
       "      <td>NaN</td>\n",
       "    </tr>\n",
       "    <tr>\n",
       "      <th>1</th>\n",
       "      <td>609</td>\n",
       "      <td>1205</td>\n",
       "      <td>5.0</td>\n",
       "      <td>NaN</td>\n",
       "    </tr>\n",
       "    <tr>\n",
       "      <th>2</th>\n",
       "      <td>609</td>\n",
       "      <td>934</td>\n",
       "      <td>5.0</td>\n",
       "      <td>NaN</td>\n",
       "    </tr>\n",
       "    <tr>\n",
       "      <th>3</th>\n",
       "      <td>609</td>\n",
       "      <td>2630</td>\n",
       "      <td>5.0</td>\n",
       "      <td>NaN</td>\n",
       "    </tr>\n",
       "    <tr>\n",
       "      <th>4</th>\n",
       "      <td>609</td>\n",
       "      <td>7730</td>\n",
       "      <td>5.0</td>\n",
       "      <td>NaN</td>\n",
       "    </tr>\n",
       "  </tbody>\n",
       "</table>\n",
       "</div>"
      ],
      "text/plain": [
       "   userId  movieId  rating  timestamp\n",
       "0     609     5398     5.0        NaN\n",
       "1     609     1205     5.0        NaN\n",
       "2     609      934     5.0        NaN\n",
       "3     609     2630     5.0        NaN\n",
       "4     609     7730     5.0        NaN"
      ]
     },
     "execution_count": 14,
     "metadata": {},
     "output_type": "execute_result"
    }
   ],
   "source": [
    "num_movie = ratings['movieId'].nunique()\n",
    "id_uniq_movie = ratings['movieId'].unique()\n",
    "\n",
    "num_user = ratings['userId'].nunique()\n",
    "id_uniq_user = ratings['userId'].unique()\n",
    "\n",
    "# 유저, 아티스트 indexing 하는 코드 idx는 index의 약자입니다.\n",
    "user_to_idx = {v:k for k,v in enumerate(id_uniq_user)}\n",
    "movie_to_idx = {v:k for k,v in enumerate(id_uniq_movie)}\n",
    "idx_to_user = {v:k for k,v in user_to_idx.items()}\n",
    "idx_to_movie = {v:k for k,v in movie_to_idx.items()}\n",
    "\n",
    "\n",
    "# 인덱싱이 잘 되었는지 확인해 봅니다. \n",
    "print(num_user)\n",
    "\n",
    "# indexing을 통해 데이터 컬럼 내 값을 바꾸는 코드\n",
    "# user_to_idx.get을 통해 user_id 컬럼의 모든 값을 인덱싱한 Series를 구해 봅시다. \n",
    "# 혹시 정상적으로 인덱싱되지 않은 row가 있다면 인덱스가 NaN이 될 테니 dropna()로 제거합니다. \n",
    "temp_user = ratings['userId'].map(user_to_idx.get).dropna()\n",
    "if len(temp_user) == len(ratings):\n",
    "    print('userId column indexing OK!!')\n",
    "    ratings['userId'] = temp_user\n",
    "else:\n",
    "    print('userId column indexing Fail!!')\n",
    "\n",
    "temp_movie = ratings['movieId'].map(movie_to_idx.get).dropna()\n",
    "if len(temp_movie) == len(ratings):\n",
    "    print('movieId column indexing OK!!')\n",
    "    ratings['movieId'] = temp_movie\n",
    "else:\n",
    "    print('movieId column indexing Fail!!')\n",
    "\n",
    "ratings.tail()\n"
   ]
  },
  {
   "cell_type": "markdown",
   "id": "e492430c",
   "metadata": {},
   "source": [
    "# 4) CSR matrix를 직접 만들어 봅시다."
   ]
  },
  {
   "cell_type": "code",
   "execution_count": 15,
   "id": "e4de6668",
   "metadata": {},
   "outputs": [
    {
     "data": {
      "text/plain": [
       "<610x8452 sparse matrix of type '<class 'numpy.float64'>'\n",
       "\twith 81768 stored elements in Compressed Sparse Row format>"
      ]
     },
     "execution_count": 15,
     "metadata": {},
     "output_type": "execute_result"
    }
   ],
   "source": [
    "# 실습 위에 설명보고 이해해서 만들어보기\n",
    "from scipy.sparse import csr_matrix\n",
    "\n",
    "csr_data = csr_matrix((ratings.rating, (ratings.userId, ratings.movieId)), shape=(num_user, num_movie))\n",
    "csr_data"
   ]
  },
  {
   "cell_type": "markdown",
   "id": "b7a46bcc",
   "metadata": {},
   "source": [
    "# 5) als_model = AlternatingLeastSquares 모델을 직접 구성하여 훈련시켜 봅시다."
   ]
  },
  {
   "cell_type": "code",
   "execution_count": 16,
   "id": "6da0ced8",
   "metadata": {},
   "outputs": [],
   "source": [
    "from implicit.als import AlternatingLeastSquares\n",
    "import os\n",
    "import numpy as np\n",
    "\n",
    "# implicit 라이브러리에서 권장하고 있는 부분입니다. 학습 내용과는 무관합니다.\n",
    "os.environ['OPENBLAS_NUM_THREADS']='1'\n",
    "os.environ['KMP_DUPLICATE_LIB_OK']='True'\n",
    "os.environ['MKL_NUM_THREADS']='1'"
   ]
  },
  {
   "cell_type": "code",
   "execution_count": 17,
   "id": "a355c0fb",
   "metadata": {
    "scrolled": true
   },
   "outputs": [
    {
     "data": {
      "application/vnd.jupyter.widget-view+json": {
       "model_id": "617f729a84b84a1aaab1228acdb290d2",
       "version_major": 2,
       "version_minor": 0
      },
      "text/plain": [
       "  0%|          | 0/15 [00:00<?, ?it/s]"
      ]
     },
     "metadata": {},
     "output_type": "display_data"
    }
   ],
   "source": [
    "# Implicit AlternatingLeastSquares 모델의 선언\n",
    "als_model = AlternatingLeastSquares(factors=100, regularization=0.01, use_gpu=False, iterations=15, dtype=np.float32)\n",
    "\n",
    "# als 모델은 input으로 (item X user 꼴의 matrix를 받기 때문에 Transpose해줍니다.)\n",
    "csr_data_transpose = csr_data.T\n",
    "csr_data_transpose\n",
    "\n",
    "# 모델 훈련\n",
    "als_model.fit(csr_data_transpose)"
   ]
  },
  {
   "cell_type": "code",
   "execution_count": 18,
   "id": "0b4d5019",
   "metadata": {},
   "outputs": [],
   "source": [
    "lee_, push_ = user_to_idx['lee'], movie_to_idx[66171]\n",
    "lee_vector, push_vector = als_model.user_factors[lee_], als_model.item_factors[push_]\n"
   ]
  },
  {
   "cell_type": "code",
   "execution_count": 19,
   "id": "f0c652f1",
   "metadata": {
    "scrolled": true
   },
   "outputs": [
    {
     "data": {
      "text/plain": [
       "array([ 0.20323844, -0.18163265,  0.17587239, -0.15222   , -0.23944832,\n",
       "       -0.11188185,  0.20121768, -0.44527727, -0.3868005 ,  0.13478814,\n",
       "       -0.04973844,  0.10945023,  0.22972889,  0.08853662, -0.14852041,\n",
       "       -0.08795793, -0.1622832 ,  0.28801635, -0.30504078, -0.03942215,\n",
       "       -0.07657857,  0.21878928, -0.06833711, -0.14209823,  0.12099177,\n",
       "        0.05953527,  0.06758741, -0.41765785,  0.10996599,  0.07181422,\n",
       "        0.1830653 ,  0.28313577,  0.01823657,  0.18926835, -0.22161275,\n",
       "       -0.01572936, -0.20487498,  0.41761178,  0.06006008,  0.25397012,\n",
       "       -0.01610625, -0.17220761,  0.00096108,  0.1488047 ,  0.08473587,\n",
       "        0.37826842, -0.14140202,  0.10400569,  0.08605842,  0.3420907 ,\n",
       "       -0.13854726,  0.09161616,  0.09797567,  0.0233429 ,  0.10880789,\n",
       "       -0.06249427,  0.22272912, -0.03510672, -0.16204299,  0.06148349,\n",
       "       -0.01236563, -0.02954807, -0.02076169, -0.36398396,  0.02087549,\n",
       "       -0.37408665, -0.13437353, -0.08800321, -0.16833836, -0.15975857,\n",
       "       -0.2657054 ,  0.3260655 , -0.07107095, -0.25774312,  0.17985906,\n",
       "        0.02571918,  0.10526841,  0.08637346, -0.00068398,  0.03094025,\n",
       "       -0.14138159,  0.16126238,  0.10851236, -0.05028734,  0.13523532,\n",
       "        0.11903273, -0.19186595,  0.0166328 ,  0.11869272,  0.22160955,\n",
       "        0.29921463,  0.0603057 , -0.04007464, -0.246564  ,  0.01136446,\n",
       "        0.39430222,  0.3569884 , -0.1678361 , -0.09774791, -0.10807835],\n",
       "      dtype=float32)"
      ]
     },
     "execution_count": 19,
     "metadata": {},
     "output_type": "execute_result"
    }
   ],
   "source": [
    "lee_vector"
   ]
  },
  {
   "cell_type": "code",
   "execution_count": 20,
   "id": "1c5778ff",
   "metadata": {
    "scrolled": true
   },
   "outputs": [
    {
     "data": {
      "text/plain": [
       "array([ 3.3642817e-04,  1.6046561e-03,  2.8286427e-03, -6.7132670e-03,\n",
       "       -3.0363693e-03, -2.3193036e-04,  3.4794237e-03, -3.8458619e-03,\n",
       "       -3.4056224e-03, -2.8407935e-03, -2.5056563e-03,  2.0908210e-03,\n",
       "       -4.6098153e-03,  1.9499486e-03,  3.4929148e-03, -3.6319990e-03,\n",
       "       -1.6362444e-03,  1.9109226e-03, -5.9878882e-03, -1.2392376e-03,\n",
       "        1.1287010e-03,  5.6741619e-04,  8.9022606e-06,  1.2584621e-03,\n",
       "        4.7289836e-03,  8.1806872e-03,  8.3212845e-04, -2.9592281e-03,\n",
       "       -2.5770785e-03,  4.2406456e-03,  4.5853849e-05,  9.4546815e-03,\n",
       "        8.0844117e-03, -7.6944255e-03, -6.4557814e-04, -5.2434523e-03,\n",
       "        1.3099622e-03,  5.0497884e-03, -5.3944588e-03, -1.5886193e-04,\n",
       "        6.8183843e-05,  6.1822194e-03,  6.3185109e-04,  1.8301293e-03,\n",
       "        5.1703481e-03,  8.2411179e-03, -2.4169321e-04,  1.7638642e-03,\n",
       "        5.6522801e-03,  3.4323223e-03,  1.6139909e-03, -3.8351936e-03,\n",
       "        5.7026129e-03, -5.9456937e-04,  3.8901262e-03,  5.6926126e-04,\n",
       "        8.1420150e-03,  3.7875439e-03, -2.8523915e-03,  8.1345141e-03,\n",
       "       -2.7331358e-03,  2.4663832e-03, -1.4591217e-05,  3.4003959e-03,\n",
       "       -8.3625515e-04, -6.6054896e-03, -6.2476206e-03, -5.7353191e-03,\n",
       "       -1.0068363e-03,  3.3084904e-03,  2.2444129e-03,  3.7956880e-03,\n",
       "        2.4028630e-03, -2.3215472e-04,  2.3984308e-03, -1.8054880e-03,\n",
       "        5.9018312e-03, -4.6674791e-04,  4.7855722e-03,  5.5551333e-03,\n",
       "        1.0278218e-03, -1.2817817e-04,  3.2039422e-03,  3.7518828e-03,\n",
       "       -9.2897640e-04,  5.9525645e-03,  2.2242712e-03,  4.7228085e-03,\n",
       "        2.7320250e-03, -5.9592270e-04,  8.7434342e-03,  2.5482688e-03,\n",
       "       -1.1376187e-04, -2.2400855e-03,  1.9138980e-03,  1.0754369e-03,\n",
       "        7.6136594e-03, -4.8608296e-03,  3.3456690e-03,  4.3767197e-03],\n",
       "      dtype=float32)"
      ]
     },
     "execution_count": 20,
     "metadata": {},
     "output_type": "execute_result"
    }
   ],
   "source": [
    "push_vector"
   ]
  },
  {
   "cell_type": "code",
   "execution_count": 21,
   "id": "579c43f9",
   "metadata": {},
   "outputs": [
    {
     "data": {
      "text/plain": [
       "0.031059006"
      ]
     },
     "execution_count": 21,
     "metadata": {},
     "output_type": "execute_result"
    }
   ],
   "source": [
    "# zimin과 black_eyed_peas를 내적하는 코드\n",
    "np.dot(lee_vector, push_vector)"
   ]
  },
  {
   "cell_type": "markdown",
   "id": "cc27630a",
   "metadata": {},
   "source": [
    "# 6) 내가 선호하는 5가지 영화 중 하나와 그 외의 영화 하나를 골라 훈련된 모델이 예측한 나의 선호도를 파악해 보세요."
   ]
  },
  {
   "cell_type": "code",
   "execution_count": 22,
   "id": "6dd0557c",
   "metadata": {},
   "outputs": [
    {
     "name": "stdout",
     "output_type": "stream",
     "text": [
      "0.22130771\n",
      "0.062417235\n",
      "-0.0013084688\n"
     ]
    }
   ],
   "source": [
    "# test\n",
    "# 'Fantastic Beasts and Where to Find Them' : 135143\n",
    "# \"Miss Peregrine's Home for Peculiar Children\" : 162600\n",
    "# 'Now You See Me' : 102903\n",
    "# 'Push' : 66171\n",
    "# 'Edge of Tomorrow' : 111759\n",
    "edge_tomorrow = movie_to_idx[111759]\n",
    "edge_tomorrow_vector = als_model.item_factors[edge_tomorrow]\n",
    "print(np.dot(lee_vector, edge_tomorrow_vector))\n",
    "\n",
    "peregrine = movie_to_idx[162600]\n",
    "peregrine_vector = als_model.item_factors[peregrine]\n",
    "print(np.dot(lee_vector, peregrine_vector))\n",
    "\n",
    "# 'Million Dollar Arm'  : 111795\n",
    "million = movie_to_idx[111795]\n",
    "million_vector = als_model.item_factors[million]\n",
    "print(np.dot(lee_vector, million_vector))\n"
   ]
  },
  {
   "cell_type": "markdown",
   "id": "9beeee8f",
   "metadata": {},
   "source": [
    "# 7) 내가 좋아하는 영화와 비슷한 영화를 추천받아 봅시다."
   ]
  },
  {
   "cell_type": "code",
   "execution_count": 23,
   "id": "bea7d03c",
   "metadata": {},
   "outputs": [],
   "source": [
    "def get_similar_movie(id_movie, num, movie_to_idx, idx_to_movie):\n",
    "    idx_movie = movie_to_idx[id_movie]\n",
    "    similar_movie = als_model.similar_items(idx_movie, N=num)\n",
    "    id_similar_movie = [idx_to_movie[idx_movie[0]] for idx_movie in similar_movie]\n",
    "    vec_similar_movie = [idx_movie[1] for idx_movie in similar_movie]\n",
    "    return [id_similar_movie, vec_similar_movie]\n"
   ]
  },
  {
   "cell_type": "code",
   "execution_count": 24,
   "id": "6a6aa9b0",
   "metadata": {
    "scrolled": true
   },
   "outputs": [
    {
     "name": "stdout",
     "output_type": "stream",
     "text": [
      "1 // Fantastic Beasts and Where to Find Them (2016) // 1.0000001192092896\n",
      "2 // Rogue One: A Star Wars Story (2016) // 0.7115494012832642\n",
      "3 // Wonder Woman (2017) // 0.6288707852363586\n",
      "4 // Justice League (2017) // 0.5745062828063965\n",
      "5 // Jumanji: Welcome to the Jungle (2017) // 0.5593062043190002\n",
      "6 // Doctor Strange (2016) // 0.5498544573783875\n",
      "7 // Black Panther (2017) // 0.5493570566177368\n",
      "8 // The Hobbit: The Battle of the Five Armies (2014) // 0.5252147316932678\n",
      "9 // Miss Peregrine's Home for Peculiar Children (2016) // 0.5152993202209473\n",
      "10 // The Jungle Book (2016) // 0.5058378577232361\n",
      "11 // Doctor Who: The Waters of Mars (2009) // 0.49976441264152527\n",
      "12 // Guardians of the Galaxy 2 (2017) // 0.4996277093887329\n",
      "13 // Doctor Who: The Doctor, the Widow and the Wardrobe (2011) // 0.4986324906349182\n",
      "14 // Doctor Who: Voyage Of The Damned (2007) // 0.4977448582649231\n",
      "15 // Doctor Who: The Husbands of River Song (2015) // 0.495137095451355\n"
     ]
    }
   ],
   "source": [
    "# 'Fantastic Beasts and Where to Find Them' : 135143\n",
    "similar_movie = get_similar_movie(135143, 15, movie_to_idx, idx_to_movie)\n",
    "\n",
    "rank = 1\n",
    "id_movie, vec_movie = similar_movie\n",
    "for idx in range(len(id_movie)):\n",
    "    name = movies['title'][id_movie[idx]]\n",
    "    print(f'{rank} // {name} // {vec_movie[idx]}')\n",
    "    rank += 1\n"
   ]
  },
  {
   "cell_type": "code",
   "execution_count": 25,
   "id": "08047a5e",
   "metadata": {
    "scrolled": true
   },
   "outputs": [
    {
     "name": "stdout",
     "output_type": "stream",
     "text": [
      "1 // Now You See Me (2013) // 1.0\n",
      "2 // Now You See Me 2 (2016) // 0.7638814449310303\n",
      "3 // Green Hornet, The (2011) // 0.6139853000640869\n",
      "4 // Vacation (2015) // 0.5984287261962891\n",
      "5 // Spotlight (2015) // 0.5466896891593933\n",
      "6 // The Magnificent Seven (2016) // 0.5368114709854126\n",
      "7 // Suicide Squad (2016) // 0.5319454073905945\n",
      "8 // We're the Millers (2013) // 0.527251660823822\n",
      "9 // Kingsman: The Golden Circle (2017) // 0.5247607231140137\n",
      "10 // Untitled Spider-Man Reboot (2017) // 0.5226229429244995\n",
      "11 // Sherlock: The Abominable Bride (2016) // 0.5198637843132019\n",
      "12 // Ted 2 (2015) // 0.5187830328941345\n",
      "13 // Jumanji: Welcome to the Jungle (2017) // 0.5186588168144226\n",
      "14 // Let's Be Cops (2014) // 0.5184555053710938\n",
      "15 // John Wick (2014) // 0.5023296475410461\n"
     ]
    }
   ],
   "source": [
    "# 'Now You See Me' : 102903\n",
    "similar_movie = get_similar_movie(102903, 15, movie_to_idx, idx_to_movie)\n",
    "\n",
    "rank = 1\n",
    "id_movie, vec_movie = similar_movie\n",
    "for idx in range(len(id_movie)):\n",
    "    name = movies['title'][id_movie[idx]]\n",
    "    print(f'{rank} // {name} // {vec_movie[idx]}')\n",
    "    rank += 1\n"
   ]
  },
  {
   "cell_type": "code",
   "execution_count": 26,
   "id": "9b12f52e",
   "metadata": {},
   "outputs": [
    {
     "name": "stdout",
     "output_type": "stream",
     "text": [
      "1 // Edge of Tomorrow (2014) // 1.0\n",
      "2 // Star Wars: Episode VII - The Force Awakens (2015) // 0.6497737169265747\n",
      "3 // The Martian (2015) // 0.6167597770690918\n",
      "4 // Deadpool (2016) // 0.5781443119049072\n",
      "5 // Mad Max: Fury Road (2015) // 0.5766379237174988\n",
      "6 // Looper (2012) // 0.539068877696991\n",
      "7 // Interstellar (2014) // 0.5191696882247925\n",
      "8 // Avengers, The (2012) // 0.5189666748046875\n",
      "9 // Gravity (2013) // 0.5128878951072693\n",
      "10 // Guardians of the Galaxy (2014) // 0.5052263736724854\n",
      "11 // X-Men: Days of Future Past (2014) // 0.5027709007263184\n",
      "12 // John Wick (2014) // 0.502395749092102\n",
      "13 // Rogue One: A Star Wars Story (2016) // 0.5017278790473938\n",
      "14 // The Revenant (2015) // 0.4798077642917633\n",
      "15 // The Imitation Game (2014) // 0.47580814361572266\n"
     ]
    }
   ],
   "source": [
    "# 'Edge of Tomorrow' : 111759\n",
    "similar_movie = get_similar_movie(111759, 15, movie_to_idx, idx_to_movie)\n",
    "\n",
    "rank = 1\n",
    "id_movie, vec_movie = similar_movie\n",
    "for idx in range(len(id_movie)):\n",
    "    name = movies['title'][id_movie[idx]]\n",
    "    print(f'{rank} // {name} // {vec_movie[idx]}')\n",
    "    rank += 1\n"
   ]
  },
  {
   "cell_type": "markdown",
   "id": "8221bfff",
   "metadata": {},
   "source": [
    "# 8) 내가 가장 좋아할 만한 영화들을 추천받아 봅시다."
   ]
  },
  {
   "cell_type": "code",
   "execution_count": 27,
   "id": "01c46469",
   "metadata": {},
   "outputs": [
    {
     "data": {
      "text/plain": [
       "[(1589, 0.15705784),\n",
       " (944, 0.15674357),\n",
       " (937, 0.15595095),\n",
       " (1631, 0.14661705),\n",
       " (797, 0.13846019),\n",
       " (1230, 0.13518645),\n",
       " (936, 0.13088866),\n",
       " (1585, 0.13087769),\n",
       " (1223, 0.12839738),\n",
       " (198, 0.12659979),\n",
       " (84, 0.12140048),\n",
       " (249, 0.115463614),\n",
       " (1231, 0.11313163),\n",
       " (1232, 0.11277447),\n",
       " (1257, 0.10951104),\n",
       " (1240, 0.109484375),\n",
       " (1234, 0.10818784),\n",
       " (2477, 0.10049896),\n",
       " (1200, 0.100269705),\n",
       " (809, 0.09962631)]"
      ]
     },
     "execution_count": 27,
     "metadata": {},
     "output_type": "execute_result"
    }
   ],
   "source": [
    "user = user_to_idx['lee']\n",
    "# recommend에서는 user*item CSR Matrix를 받습니다.\n",
    "movie_recommended = als_model.recommend(user, csr_data, N=20, filter_already_liked_items=True)\n",
    "movie_recommended\n"
   ]
  },
  {
   "cell_type": "code",
   "execution_count": 28,
   "id": "cc29b3e3",
   "metadata": {},
   "outputs": [
    {
     "data": {
      "text/plain": [
       "[88125,\n",
       " 166528,\n",
       " 134130,\n",
       " 115149,\n",
       " 69844,\n",
       " 122904,\n",
       " 122886,\n",
       " 81834,\n",
       " 116797,\n",
       " 3147,\n",
       " 1270,\n",
       " 122882,\n",
       " 122918,\n",
       " 122920,\n",
       " 168252,\n",
       " 142488,\n",
       " 122926,\n",
       " 54001,\n",
       " 98809,\n",
       " 81845]"
      ]
     },
     "execution_count": 28,
     "metadata": {},
     "output_type": "execute_result"
    }
   ],
   "source": [
    "[idx_to_movie[i[0]] for i in movie_recommended]"
   ]
  },
  {
   "cell_type": "code",
   "execution_count": 29,
   "id": "7fa548cf",
   "metadata": {},
   "outputs": [
    {
     "data": {
      "text/plain": [
       "['Harry Potter and the Deathly Hallows: Part 2 (2011)',\n",
       " 'Rogue One: A Star Wars Story (2016)',\n",
       " 'The Martian (2015)',\n",
       " 'John Wick (2014)',\n",
       " 'Harry Potter and the Half-Blood Prince (2009)',\n",
       " 'Deadpool (2016)',\n",
       " 'Star Wars: Episode VII - The Force Awakens (2015)',\n",
       " 'Harry Potter and the Deathly Hallows: Part 1 (2010)',\n",
       " 'The Imitation Game (2014)',\n",
       " 'Green Mile, The (1999)',\n",
       " 'Back to the Future (1985)',\n",
       " 'Mad Max: Fury Road (2015)',\n",
       " 'Guardians of the Galaxy 2 (2017)',\n",
       " 'Captain America: Civil War (2016)',\n",
       " 'Logan (2017)',\n",
       " 'Spotlight (2015)',\n",
       " 'Untitled Spider-Man Reboot (2017)',\n",
       " 'Harry Potter and the Order of the Phoenix (2007)',\n",
       " 'Hobbit: An Unexpected Journey, The (2012)',\n",
       " \"King's Speech, The (2010)\"]"
      ]
     },
     "execution_count": 29,
     "metadata": {},
     "output_type": "execute_result"
    }
   ],
   "source": [
    "[movies['title'][idx_to_movie[i[0]]] for i in movie_recommended]"
   ]
  },
  {
   "cell_type": "code",
   "execution_count": 30,
   "id": "ee42e8d5",
   "metadata": {},
   "outputs": [],
   "source": [
    "# 'Rogue One: A Star Wars Story' : 166528\n",
    "rogue = movie_to_idx[166528]\n",
    "explain = als_model.explain(user, csr_data, itemid=rogue)"
   ]
  },
  {
   "cell_type": "code",
   "execution_count": 31,
   "id": "f0144fc6",
   "metadata": {},
   "outputs": [
    {
     "data": {
      "text/plain": [
       "[('Fantastic Beasts and Where to Find Them (2016)', 0.06382360811976165),\n",
       " ('Edge of Tomorrow (2014)', 0.051636629396783144),\n",
       " ('Now You See Me (2013)', 0.02197486675704219),\n",
       " (\"Miss Peregrine's Home for Peculiar Children (2016)\", 0.0129939921058165),\n",
       " ('Push (2009)', 0.005548214155612838)]"
      ]
     },
     "execution_count": 31,
     "metadata": {},
     "output_type": "execute_result"
    }
   ],
   "source": [
    "[(movies['title'][idx_to_movie[i[0]]], i[1]) for i in explain[1]]\n"
   ]
  }
 ],
 "metadata": {
  "kernelspec": {
   "display_name": "Python 3 (ipykernel)",
   "language": "python",
   "name": "python3"
  },
  "language_info": {
   "codemirror_mode": {
    "name": "ipython",
    "version": 3
   },
   "file_extension": ".py",
   "mimetype": "text/x-python",
   "name": "python",
   "nbconvert_exporter": "python",
   "pygments_lexer": "ipython3",
   "version": "3.9.7"
  }
 },
 "nbformat": 4,
 "nbformat_minor": 5
}
