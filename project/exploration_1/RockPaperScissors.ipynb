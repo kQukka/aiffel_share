{
 "cells": [
  {
   "cell_type": "code",
   "execution_count": 17,
   "id": "82406d9e",
   "metadata": {},
   "outputs": [],
   "source": [
    "from PIL import Image\n",
    "import glob\n",
    "import numpy as np\n",
    "import os\n",
    "\n",
    "\n",
    "def resize_images(img_path):\n",
    "    images=glob.glob(img_path + \"/*.jpg\")  \n",
    "    \n",
    "    print(len(images), \" images to be resized.\")\n",
    "\n",
    "    # 파일마다 모두 28x28 사이즈로 바꾸어 저장합니다.\n",
    "    target_size=(28,28)\n",
    "    for img in images:\n",
    "        old_img=Image.open(img)\n",
    "        new_img=old_img.resize(target_size,Image.ANTIALIAS)\n",
    "        new_img=new_img.convert('RGB')\n",
    "        new_img.save(img, \"JPEG\")\n",
    "    \n",
    "    print(len(images), \" images resized.\")\n",
    "    return len(images)\n",
    "\n",
    "def load_data(img_path, number_of_data=300):  # 가위바위보 이미지 개수 총합에 주의하세요.\n",
    "    # 가위 : 0, 바위 : 1, 보 : 2\n",
    "    img_size=28\n",
    "    color=3\n",
    "    #이미지 데이터와 라벨(가위 : 0, 바위 : 1, 보 : 2) 데이터를 담을 행렬(matrix) 영역을 생성합니다.\n",
    "    imgs=np.zeros(number_of_data*img_size*img_size*color,dtype=np.int32).reshape(number_of_data,img_size,img_size,color)\n",
    "    labels=np.zeros(number_of_data,dtype=np.int32)\n",
    "\n",
    "    idx=0\n",
    "    for file in glob.iglob(img_path+'/scissor/*.jpg'):\n",
    "        img = np.array(Image.open(file),dtype=np.int32)\n",
    "        imgs[idx,:,:,:]=img    # 데이터 영역에 이미지 행렬을 복사\n",
    "        labels[idx]=0   # 가위 : 0\n",
    "        idx=idx+1\n",
    "\n",
    "    for file in glob.iglob(img_path+'/rock/*.jpg'):\n",
    "        img = np.array(Image.open(file),dtype=np.int32)\n",
    "        imgs[idx,:,:,:]=img    # 데이터 영역에 이미지 행렬을 복사\n",
    "        labels[idx]=1   # 바위 : 1\n",
    "        idx=idx+1  \n",
    "    \n",
    "    for file in glob.iglob(img_path+'/paper/*.jpg'):\n",
    "        img = np.array(Image.open(file),dtype=np.int32)\n",
    "        imgs[idx,:,:,:]=img    # 데이터 영역에 이미지 행렬을 복사\n",
    "        labels[idx]=2   # 보 : 2\n",
    "        idx=idx+1\n",
    "        \n",
    "    print(\"학습데이터(x_train)의 이미지 개수는\", idx,\"입니다.\")\n",
    "    return imgs, labels"
   ]
  },
  {
   "cell_type": "code",
   "execution_count": 26,
   "id": "aa6162a2",
   "metadata": {},
   "outputs": [
    {
     "name": "stdout",
     "output_type": "stream",
     "text": [
      "480  images to be resized.\n",
      "480  images resized.\n",
      "480  images to be resized.\n",
      "480  images resized.\n",
      "480  images to be resized.\n",
      "480  images resized.\n",
      "학습데이터(x_train)의 이미지 개수는 1440 입니다.\n"
     ]
    }
   ],
   "source": [
    "\n",
    "path_ = '/aiffel/project/exploration_1/data/train/'\n",
    "num = 0\n",
    "# 가위 이미지가 저장된 디렉토리 아래의 모든 jpg 파일을 읽어들여서\n",
    "image_dir_path = os.getenv(\"HOME\") + path_ + \"scissor\"\n",
    "num += resize_images(image_dir_path)\n",
    "\n",
    "# 바위 이미지가 저장된 디렉토리 아래의 모든 jpg 파일을 읽어들여서\n",
    "image_dir_path = os.getenv(\"HOME\") + path_ + \"rock\"\n",
    "num += resize_images(image_dir_path)\n",
    "\n",
    "# 보 이미지가 저장된 디렉토리 아래의 모든 jpg 파일을 읽어들여서\n",
    "image_dir_path = os.getenv(\"HOME\") + path_ + \"paper\"\n",
    "num += resize_images(image_dir_path)\n",
    "\n",
    "image_dir_path = os.getenv(\"HOME\") + path_\n",
    "(x_train, y_train)=load_data(image_dir_path, num)\n",
    "x_train_norm = x_train/255.0   # 입력은 0~1 사이의 값으로 정규화\n"
   ]
  },
  {
   "cell_type": "code",
   "execution_count": 30,
   "id": "ee495265",
   "metadata": {},
   "outputs": [
    {
     "name": "stdout",
     "output_type": "stream",
     "text": [
      "93  images to be resized.\n",
      "93  images resized.\n",
      "93  images to be resized.\n",
      "93  images resized.\n",
      "93  images to be resized.\n",
      "93  images resized.\n",
      "학습데이터(x_train)의 이미지 개수는 279 입니다.\n"
     ]
    }
   ],
   "source": [
    "\n",
    "path_ = '/aiffel/project/exploration_1/data/test/'\n",
    "num = 0\n",
    "# 가위 이미지가 저장된 디렉토리 아래의 모든 jpg 파일을 읽어들여서\n",
    "image_dir_path = os.getenv(\"HOME\") + path_ + \"scissor\"\n",
    "num += resize_images(image_dir_path)\n",
    "\n",
    "# 바위 이미지가 저장된 디렉토리 아래의 모든 jpg 파일을 읽어들여서\n",
    "image_dir_path = os.getenv(\"HOME\") + path_ + \"rock\"\n",
    "num += resize_images(image_dir_path)\n",
    "\n",
    "# 보 이미지가 저장된 디렉토리 아래의 모든 jpg 파일을 읽어들여서\n",
    "image_dir_path = os.getenv(\"HOME\") + path_ + \"paper\"\n",
    "num += resize_images(image_dir_path)\n",
    "\n",
    "image_dir_path = os.getenv(\"HOME\") + path_\n",
    "(x_test, y_test)=load_data(image_dir_path, num)\n",
    "x_test_norm = x_test/255.0   # 입력은 0~1 사이의 값으로 정규화\n"
   ]
  },
  {
   "cell_type": "code",
   "execution_count": 32,
   "id": "d0d89ed4",
   "metadata": {},
   "outputs": [
    {
     "name": "stdout",
     "output_type": "stream",
     "text": [
      "x_train shape: (1440, 28, 28, 3)\n",
      "y_train shape: (1440,)\n"
     ]
    }
   ],
   "source": [
    "print(\"x_train shape: {}\".format(x_train.shape))\n",
    "print(\"y_train shape: {}\".format(y_train.shape))"
   ]
  },
  {
   "cell_type": "code",
   "execution_count": 196,
   "id": "e65998a8",
   "metadata": {},
   "outputs": [
    {
     "name": "stdout",
     "output_type": "stream",
     "text": [
      "Model: \"sequential_63\"\n",
      "_________________________________________________________________\n",
      "Layer (type)                 Output Shape              Param #   \n",
      "=================================================================\n",
      "conv2d_195 (Conv2D)          (None, 26, 26, 64)        1792      \n",
      "_________________________________________________________________\n",
      "max_pooling2d_189 (MaxPoolin (None, 13, 13, 64)        0         \n",
      "_________________________________________________________________\n",
      "conv2d_196 (Conv2D)          (None, 11, 11, 256)       147712    \n",
      "_________________________________________________________________\n",
      "max_pooling2d_190 (MaxPoolin (None, 5, 5, 256)         0         \n",
      "_________________________________________________________________\n",
      "conv2d_197 (Conv2D)          (None, 3, 3, 612)         1410660   \n",
      "_________________________________________________________________\n",
      "max_pooling2d_191 (MaxPoolin (None, 1, 1, 612)         0         \n",
      "_________________________________________________________________\n",
      "flatten_56 (Flatten)         (None, 612)               0         \n",
      "_________________________________________________________________\n",
      "dense_170 (Dense)            (None, 36)                22068     \n",
      "_________________________________________________________________\n",
      "dense_171 (Dense)            (None, 12)                444       \n",
      "_________________________________________________________________\n",
      "dense_172 (Dense)            (None, 3)                 39        \n",
      "=================================================================\n",
      "Total params: 1,582,715\n",
      "Trainable params: 1,582,715\n",
      "Non-trainable params: 0\n",
      "_________________________________________________________________\n"
     ]
    }
   ],
   "source": [
    "# model을 학습시키는 코드를 직접 작성해 보세요.\n",
    "# Hint! model.evaluate()을 사용해 봅시다.\n",
    "# [[YOUR CODE]]\n",
    "import tensorflow as tf\n",
    "from tensorflow import keras\n",
    "import numpy as np\n",
    "\n",
    "# model을 직접 만들어 보세요.\n",
    "# Hint! model의 입력/출력부에 특히 유의해 주세요. 가위바위보 데이터셋은 MNIST 데이터셋과 어떤 점이 달라졌나요?\n",
    "# [[YOUR CODE]]\n",
    "# 바꿔 볼 수 있는 하이퍼파라미터들\n",
    "n_channel_1=64\n",
    "n_channel_2=256\n",
    "n_channel_3=612\n",
    "n_dense_1=36\n",
    "n_dense_2=12\n",
    "n_train_epoch=5\n",
    "\n",
    "model=keras.models.Sequential()\n",
    "model.add(keras.layers.Conv2D(n_channel_1, (3,3), activation='relu', input_shape=(28,28,3)))\n",
    "model.add(keras.layers.MaxPool2D(2,2))\n",
    "model.add(keras.layers.Conv2D(n_channel_2, (3,3), activation='relu'))\n",
    "model.add(keras.layers.MaxPooling2D((2,2)))\n",
    "model.add(keras.layers.Conv2D(n_channel_3, (3,3), activation='relu'))\n",
    "model.add(keras.layers.MaxPooling2D((2,2)))\n",
    "model.add(keras.layers.Flatten())\n",
    "model.add(keras.layers.Dense(n_dense_1, activation='relu'))\n",
    "model.add(keras.layers.Dense(n_dense_2, activation='relu'))\n",
    "model.add(keras.layers.Dense(3, activation='softmax'))\n",
    "\n",
    "model.summary()\n",
    "\n",
    "# model을 학습시키는 코드를 직접 작성해 보세요.\n",
    "model.compile(optimizer='adam', loss='sparse_categorical_crossentropy', metrics=['accuracy'])"
   ]
  },
  {
   "cell_type": "code",
   "execution_count": 201,
   "id": "68e2622d",
   "metadata": {
    "scrolled": false
   },
   "outputs": [
    {
     "name": "stdout",
     "output_type": "stream",
     "text": [
      "Epoch 1/5\n",
      "45/45 [==============================] - 0s 5ms/step - loss: 5.6268e-05 - accuracy: 1.0000\n",
      "Epoch 2/5\n",
      "45/45 [==============================] - 0s 5ms/step - loss: 4.9788e-05 - accuracy: 1.0000\n",
      "Epoch 3/5\n",
      "45/45 [==============================] - 0s 5ms/step - loss: 4.7160e-05 - accuracy: 1.0000\n",
      "Epoch 4/5\n",
      "45/45 [==============================] - 0s 5ms/step - loss: 4.3285e-05 - accuracy: 1.0000\n",
      "Epoch 5/5\n",
      "45/45 [==============================] - 0s 5ms/step - loss: 3.9851e-05 - accuracy: 1.0000\n",
      "9/9 - 0s - loss: 0.6604 - accuracy: 0.8459\n",
      "test_loss: 0.6604313254356384 \n",
      "test_accuracy: 0.8458781242370605\n",
      "total_test_loss : 0.6604313254356384\n",
      "total_test_accuracy : 0.8458781242370605\n"
     ]
    }
   ],
   "source": [
    "cnt_iter = 1\n",
    "loss_list = []\n",
    "accuracy_list = []\n",
    "for i in range(cnt_iter):\n",
    "\n",
    "    # 모델 훈련\n",
    "    model.fit(x_train_norm, y_train, epochs=n_train_epoch)\n",
    "\n",
    "# 모델 시험\n",
    "# test_loss, test_accuracy = model.evaluate(x_test_norm, y_test, verbose=2)\n",
    "# print(\"test_loss: {} \".format(test_loss))\n",
    "# print(\"test_accuracy: {}\".format(test_accuracy))\n",
    "\n",
    "    test_loss, test_accuracy = model.evaluate(x_test_norm, y_test, verbose=2)\n",
    "    loss_list.append(test_loss)\n",
    "    accuracy_list.append(test_accuracy)\n",
    "    print(\"test_loss: {} \".format(test_loss))\n",
    "    print(\"test_accuracy: {}\".format(test_accuracy))\n",
    "\n",
    "print('total_test_loss :', sum(loss_list)/cnt_iter)\n",
    "print('total_test_accuracy :', sum(accuracy_list)/cnt_iter)"
   ]
  }
 ],
 "metadata": {
  "kernelspec": {
   "display_name": "Python 3 (ipykernel)",
   "language": "python",
   "name": "python3"
  },
  "language_info": {
   "codemirror_mode": {
    "name": "ipython",
    "version": 3
   },
   "file_extension": ".py",
   "mimetype": "text/x-python",
   "name": "python",
   "nbconvert_exporter": "python",
   "pygments_lexer": "ipython3",
   "version": "3.9.7"
  }
 },
 "nbformat": 4,
 "nbformat_minor": 5
}
